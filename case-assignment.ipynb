{
 "cells": [
  {
   "cell_type": "code",
   "execution_count": 1,
   "id": "51d3816f-9c3d-40d0-94a1-bd7e193ac8bd",
   "metadata": {},
   "outputs": [],
   "source": [
    "%matplotlib inline"
   ]
  },
  {
   "cell_type": "code",
   "execution_count": 2,
   "id": "dca98b43-93dc-4483-ab97-69c72b642ac1",
   "metadata": {},
   "outputs": [],
   "source": [
    "# !pip install -U tensorflow"
   ]
  },
  {
   "cell_type": "code",
   "execution_count": 73,
   "id": "990db6ab-fa9c-4a93-b073-731d3b78fdee",
   "metadata": {},
   "outputs": [],
   "source": [
    "import pandas as pd\n",
    "import numpy as np\n",
    "import pycaret\n",
    "import sklearn\n",
    "import matplotlib.pyplot as plt\n",
    "import seaborn as sns\n",
    "\n",
    "from keras.layers import Input, Dense\n",
    "from keras.models import Model, Sequential\n",
    "from keras import regularizers\n",
    "\n",
    "from sklearn.linear_model import LogisticRegression\n",
    "from sklearn.metrics import classification_report, accuracy_score, confusion_matrix\n",
    "from sklearn.manifold import TSNE\n",
    "from sklearn import preprocessing "
   ]
  },
  {
   "cell_type": "markdown",
   "id": "f059a2c8-df50-4736-bf08-694a5a874a1c",
   "metadata": {},
   "source": [
    "# Load data\n",
    "We start by loading only the transactions involved, to be able to select these for model training"
   ]
  },
  {
   "cell_type": "code",
   "execution_count": 4,
   "id": "43ac4d26-1ef8-4de9-aaaa-94c1d6b7e624",
   "metadata": {},
   "outputs": [
    {
     "name": "stdout",
     "output_type": "stream",
     "text": [
      "<class 'pandas.core.frame.DataFrame'>\n",
      "RangeIndex: 197905 entries, 0 to 197904\n",
      "Data columns (total 8 columns):\n",
      " #   Column          Non-Null Count   Dtype  \n",
      "---  ------          --------------   -----  \n",
      " 0   tran_id         197905 non-null  int64  \n",
      " 1   orig_acct       197905 non-null  int64  \n",
      " 2   bene_acct       197905 non-null  int64  \n",
      " 3   tx_type         197905 non-null  object \n",
      " 4   base_amt        197905 non-null  float64\n",
      " 5   tran_timestamp  197905 non-null  object \n",
      " 6   is_sar          197905 non-null  bool   \n",
      " 7   alert_id        197905 non-null  int64  \n",
      "dtypes: bool(1), float64(1), int64(4), object(2)\n",
      "memory usage: 10.8+ MB\n"
     ]
    }
   ],
   "source": [
    "trx = pd.read_csv('transactions.csv')\n",
    "original_trx_data = trx.copy()\n",
    "trx.info()"
   ]
  },
  {
   "cell_type": "code",
   "execution_count": 5,
   "id": "b315e79e-9d51-44be-babc-88b8d656c11e",
   "metadata": {},
   "outputs": [
    {
     "data": {
      "text/html": [
       "<div>\n",
       "<style scoped>\n",
       "    .dataframe tbody tr th:only-of-type {\n",
       "        vertical-align: middle;\n",
       "    }\n",
       "\n",
       "    .dataframe tbody tr th {\n",
       "        vertical-align: top;\n",
       "    }\n",
       "\n",
       "    .dataframe thead th {\n",
       "        text-align: right;\n",
       "    }\n",
       "</style>\n",
       "<table border=\"1\" class=\"dataframe\">\n",
       "  <thead>\n",
       "    <tr style=\"text-align: right;\">\n",
       "      <th></th>\n",
       "      <th>tran_id</th>\n",
       "      <th>orig_acct</th>\n",
       "      <th>bene_acct</th>\n",
       "      <th>base_amt</th>\n",
       "      <th>alert_id</th>\n",
       "    </tr>\n",
       "  </thead>\n",
       "  <tbody>\n",
       "    <tr>\n",
       "      <th>count</th>\n",
       "      <td>197905.000000</td>\n",
       "      <td>197905.000000</td>\n",
       "      <td>197905.000000</td>\n",
       "      <td>197905.000000</td>\n",
       "      <td>197905.000000</td>\n",
       "    </tr>\n",
       "    <tr>\n",
       "      <th>mean</th>\n",
       "      <td>98953.000000</td>\n",
       "      <td>1909.848776</td>\n",
       "      <td>569.676481</td>\n",
       "      <td>546.631910</td>\n",
       "      <td>-0.823547</td>\n",
       "    </tr>\n",
       "    <tr>\n",
       "      <th>std</th>\n",
       "      <td>57130.396849</td>\n",
       "      <td>1618.013120</td>\n",
       "      <td>1695.983714</td>\n",
       "      <td>261.671165</td>\n",
       "      <td>3.472225</td>\n",
       "    </tr>\n",
       "    <tr>\n",
       "      <th>min</th>\n",
       "      <td>1.000000</td>\n",
       "      <td>0.000000</td>\n",
       "      <td>0.000000</td>\n",
       "      <td>0.090000</td>\n",
       "      <td>-1.000000</td>\n",
       "    </tr>\n",
       "    <tr>\n",
       "      <th>25%</th>\n",
       "      <td>49477.000000</td>\n",
       "      <td>461.000000</td>\n",
       "      <td>24.000000</td>\n",
       "      <td>319.580000</td>\n",
       "      <td>-1.000000</td>\n",
       "    </tr>\n",
       "    <tr>\n",
       "      <th>50%</th>\n",
       "      <td>98953.000000</td>\n",
       "      <td>2098.000000</td>\n",
       "      <td>53.000000</td>\n",
       "      <td>546.780000</td>\n",
       "      <td>-1.000000</td>\n",
       "    </tr>\n",
       "    <tr>\n",
       "      <th>75%</th>\n",
       "      <td>148429.000000</td>\n",
       "      <td>2738.000000</td>\n",
       "      <td>191.000000</td>\n",
       "      <td>772.290000</td>\n",
       "      <td>-1.000000</td>\n",
       "    </tr>\n",
       "    <tr>\n",
       "      <th>max</th>\n",
       "      <td>197905.000000</td>\n",
       "      <td>12007.000000</td>\n",
       "      <td>11991.000000</td>\n",
       "      <td>999.990000</td>\n",
       "      <td>99.000000</td>\n",
       "    </tr>\n",
       "  </tbody>\n",
       "</table>\n",
       "</div>"
      ],
      "text/plain": [
       "             tran_id      orig_acct      bene_acct       base_amt  \\\n",
       "count  197905.000000  197905.000000  197905.000000  197905.000000   \n",
       "mean    98953.000000    1909.848776     569.676481     546.631910   \n",
       "std     57130.396849    1618.013120    1695.983714     261.671165   \n",
       "min         1.000000       0.000000       0.000000       0.090000   \n",
       "25%     49477.000000     461.000000      24.000000     319.580000   \n",
       "50%     98953.000000    2098.000000      53.000000     546.780000   \n",
       "75%    148429.000000    2738.000000     191.000000     772.290000   \n",
       "max    197905.000000   12007.000000   11991.000000     999.990000   \n",
       "\n",
       "            alert_id  \n",
       "count  197905.000000  \n",
       "mean       -0.823547  \n",
       "std         3.472225  \n",
       "min        -1.000000  \n",
       "25%        -1.000000  \n",
       "50%        -1.000000  \n",
       "75%        -1.000000  \n",
       "max        99.000000  "
      ]
     },
     "execution_count": 5,
     "metadata": {},
     "output_type": "execute_result"
    }
   ],
   "source": [
    "trx.describe()"
   ]
  },
  {
   "cell_type": "code",
   "execution_count": 6,
   "id": "3093bd73-9e5f-405f-aefe-ec8a8629a39b",
   "metadata": {},
   "outputs": [
    {
     "data": {
      "text/plain": [
       "tran_id           False\n",
       "orig_acct         False\n",
       "bene_acct         False\n",
       "tx_type           False\n",
       "base_amt          False\n",
       "tran_timestamp    False\n",
       "is_sar            False\n",
       "alert_id          False\n",
       "dtype: bool"
      ]
     },
     "execution_count": 6,
     "metadata": {},
     "output_type": "execute_result"
    }
   ],
   "source": [
    "#Check if the data has an NaN values\n",
    "trx.isnull().any()"
   ]
  },
  {
   "cell_type": "code",
   "execution_count": 7,
   "id": "532de884-c9e3-40d8-b6cf-ab45ea089f54",
   "metadata": {},
   "outputs": [
    {
     "data": {
      "image/png": "[encoded data removed]",
      "text/plain": [
       "<Figure size 1080x216 with 1 Axes>"
      ]
     },
     "metadata": {
      "needs_background": "light"
     },
     "output_type": "display_data"
    }
   ],
   "source": [
    "trx['is_sar'].value_counts()\n",
    "trx.groupby('is_sar') \\\n",
    "    .count()['tran_id'] \\\n",
    "    .plot(kind='barh',\n",
    "          title='Distribution of Target',\n",
    "          figsize=(15, 3))\n",
    "plt.show()"
   ]
  },
  {
   "cell_type": "markdown",
   "id": "a9efa688-0655-4ae2-a545-4f23b2148389",
   "metadata": {},
   "source": [
    "### Initial Assumption\n",
    "Clearly the data is totally unbalanced!!\n",
    "This is a clear example where we cannot use accuracy score to evaluate our classification algorithm. For example, if we just used a majority class to assign values to all records, we will still be having a high accuracy, BUT WE WOULD BE CLASSIFYING ALL \"1\" INCORRECTLY!!\n",
    "There are several ways to approach this classification problem taking into consideration this imbalance.\n",
    "1. Collect more data? Nice strategy but not applicable in this case. However we can use the larger dataset but it will still be imbalanced\n",
    "2. Changing the performance metric:\n",
    "   - Use the confusion matrix to calculate Precision, Recall\n",
    "   - F1score (weighted average of precision recall)\n",
    "   - Use Kappa - which is a classification accuracy normalized by the imbalance of the classes in the data\n",
    "   - ROC curves - calculates sensitivity/specificity ratio.\n",
    "\n",
    "\n"
   ]
  },
  {
   "cell_type": "code",
   "execution_count": 8,
   "id": "e168e688-87fe-4f04-8629-f4415e552dc9",
   "metadata": {},
   "outputs": [
    {
     "data": {
      "image/png": "[encoded data removed]",
      "text/plain": [
       "<Figure size 1440x576 with 2 Axes>"
      ]
     },
     "metadata": {
      "needs_background": "light"
     },
     "output_type": "display_data"
    }
   ],
   "source": [
    "#Lets also check if there is correlation between different features\n",
    "corr = trx.corr()\n",
    " \n",
    "plt.figure(figsize=(20,8))\n",
    "fig = sns.heatmap(corr.round(2), cmap='coolwarm', linewidths=.5, annot=True)\n",
    "fig.set(title=\"Correlation Matrix\");"
   ]
  },
  {
   "cell_type": "markdown",
   "id": "cf2f46ba-46d3-4e8e-86f3-c7a3a73a8b21",
   "metadata": {},
   "source": [
    "We can see that `alert_id` is highly correlated to `is_sar`"
   ]
  },
  {
   "cell_type": "markdown",
   "id": "8f6fc538-a478-412b-a41e-59b17da33df3",
   "metadata": {},
   "source": [
    "### TransactionAmt(base_amt)\n",
    "The amount of transaction. I've taken a log transform in some of these plots to better show the distribution- otherwise the few, very large transactions skew the distribution. Because of the log transfrom, any values between 0 and 1 will appear to be negative."
   ]
  },
  {
   "cell_type": "code",
   "execution_count": 9,
   "id": "ca946542-2a75-42c0-a539-916dfaf28dff",
   "metadata": {},
   "outputs": [
    {
     "data": {
      "image/png": "[encoded data removed]",
      "text/plain": [
       "<Figure size 1080x360 with 1 Axes>"
      ]
     },
     "metadata": {
      "needs_background": "light"
     },
     "output_type": "display_data"
    }
   ],
   "source": [
    "trx['base_amt'] \\\n",
    "    .apply(np.log) \\\n",
    "    .plot(kind='hist',\n",
    "          bins=100,\n",
    "          figsize=(15, 5),\n",
    "          title='Distribution of Log Transaction Amt')\n",
    "plt.show()"
   ]
  },
  {
   "cell_type": "code",
   "execution_count": 10,
   "id": "b5c4af36-4557-40c4-8f7f-11f591739e9f",
   "metadata": {},
   "outputs": [
    {
     "data": {
      "text/html": [
       "<div>\n",
       "<style scoped>\n",
       "    .dataframe tbody tr th:only-of-type {\n",
       "        vertical-align: middle;\n",
       "    }\n",
       "\n",
       "    .dataframe tbody tr th {\n",
       "        vertical-align: top;\n",
       "    }\n",
       "\n",
       "    .dataframe thead th {\n",
       "        text-align: right;\n",
       "    }\n",
       "</style>\n",
       "<table border=\"1\" class=\"dataframe\">\n",
       "  <thead>\n",
       "    <tr style=\"text-align: right;\">\n",
       "      <th></th>\n",
       "      <th>max</th>\n",
       "      <th>min</th>\n",
       "    </tr>\n",
       "    <tr>\n",
       "      <th>is_sar</th>\n",
       "      <th></th>\n",
       "      <th></th>\n",
       "    </tr>\n",
       "  </thead>\n",
       "  <tbody>\n",
       "    <tr>\n",
       "      <th>False</th>\n",
       "      <td>999.99</td>\n",
       "      <td>0.09</td>\n",
       "    </tr>\n",
       "    <tr>\n",
       "      <th>True</th>\n",
       "      <td>999.17</td>\n",
       "      <td>8.77</td>\n",
       "    </tr>\n",
       "  </tbody>\n",
       "</table>\n",
       "</div>"
      ],
      "text/plain": [
       "           max   min\n",
       "is_sar              \n",
       "False   999.99  0.09\n",
       "True    999.17  8.77"
      ]
     },
     "execution_count": 10,
     "metadata": {},
     "output_type": "execute_result"
    }
   ],
   "source": [
    "#Checking the transaction amount per SAR\n",
    "amt_per_sar= trx.groupby('is_sar')['base_amt'].agg([max, min])\n",
    "amt_per_sar"
   ]
  },
  {
   "cell_type": "code",
   "execution_count": 11,
   "id": "d0d38359-6da1-4f3b-9d14-5960e1dd3bfa",
   "metadata": {},
   "outputs": [
    {
     "data": {
      "image/png": "[encoded data removed]",
      "text/plain": [
       "<Figure size 1080x432 with 4 Axes>"
      ]
     },
     "metadata": {},
     "output_type": "display_data"
    }
   ],
   "source": [
    "plt.style.use('ggplot')\n",
    "color_pal = [x['color'] for x in plt.rcParams['axes.prop_cycle']]\n",
    "\n",
    "\n",
    "fig, ((ax1, ax2), (ax3, ax4)) = plt.subplots(2, 2, figsize=(15, 6))\n",
    "trx.loc[trx['is_sar'] == True] \\\n",
    "    ['base_amt'].apply(np.log) \\\n",
    "    .plot(kind='hist',\n",
    "          bins=100,\n",
    "          title='Log Transaction Amt - SAR(AML)',\n",
    "          color=color_pal[1],\n",
    "          xlim=(-3, 10),\n",
    "         ax= ax1)\n",
    "trx.loc[trx['is_sar'] == False] \\\n",
    "    ['base_amt'].apply(np.log) \\\n",
    "    .plot(kind='hist',\n",
    "          bins=100,\n",
    "          title='Log Transaction Amt - Non SAR(AML)',\n",
    "          color=color_pal[2],\n",
    "          xlim=(-3, 10),\n",
    "         ax=ax2)\n",
    "trx.loc[trx['is_sar'] == True] \\\n",
    "    ['base_amt'] \\\n",
    "    .plot(kind='hist',\n",
    "          bins=100,\n",
    "          title='Transaction Amt - SAR(AML)',\n",
    "          color=color_pal[1],\n",
    "         ax= ax3)\n",
    "trx.loc[trx['is_sar'] == False] \\\n",
    "    ['base_amt'] \\\n",
    "    .plot(kind='hist',\n",
    "          bins=100,\n",
    "          title='Transaction Amt - Non SAR(AML)',\n",
    "          color=color_pal[2],\n",
    "         ax=ax4)\n",
    "plt.show()"
   ]
  },
  {
   "cell_type": "markdown",
   "id": "7c15eb55-c63b-4549-91fa-5e7b004f5ecb",
   "metadata": {},
   "source": [
    "NON SAR AML transactions appear to have a higher average transaction amount"
   ]
  },
  {
   "cell_type": "code",
   "execution_count": 12,
   "id": "00ef3902-c3d2-40d5-bd8b-e9d5cda2e691",
   "metadata": {},
   "outputs": [
    {
     "name": "stdout",
     "output_type": "stream",
     "text": [
      "Mean transaction amt for fraud is 558.0868\n",
      "Mean transaction amt for non-fraud is 546.5929\n"
     ]
    }
   ],
   "source": [
    "print('Mean transaction amt for fraud is {:.4f}'.format(trx.loc[trx['is_sar'] == True]['base_amt'].mean()))\n",
    "print('Mean transaction amt for non-fraud is {:.4f}'.format(trx.loc[trx['is_sar'] == False]['base_amt'].mean()))"
   ]
  },
  {
   "cell_type": "code",
   "execution_count": 13,
   "id": "9eec00b0-f51b-46bd-a8c6-b5b290d16ce2",
   "metadata": {},
   "outputs": [
    {
     "data": {
      "image/png": "[encoded data removed]",
      "text/plain": [
       "<Figure size 720x720 with 1 Axes>"
      ]
     },
     "metadata": {},
     "output_type": "display_data"
    }
   ],
   "source": [
    "fig, axs = plt.subplots(figsize=(10, 10))\n",
    "a = sns.boxplot(x = 'is_sar', y = 'base_amt', data = trx)"
   ]
  },
  {
   "cell_type": "code",
   "execution_count": 14,
   "id": "003ac830-d711-4229-bf4c-8129995c150d",
   "metadata": {},
   "outputs": [],
   "source": [
    "trx['tran_timestamp'] = pd.to_datetime(trx['tran_timestamp'], \n",
    " format = '%Y-%m-%dT%H:%M:%SZ', \n",
    " errors = 'coerce')"
   ]
  },
  {
   "cell_type": "code",
   "execution_count": 15,
   "id": "ff948c66-27d9-420b-b229-44e44bdbb962",
   "metadata": {},
   "outputs": [
    {
     "name": "stderr",
     "output_type": "stream",
     "text": [
      "/tmp/ipykernel_1926/2861054840.py:3: FutureWarning: Series.dt.weekofyear and Series.dt.week have been deprecated. Please use Series.dt.isocalendar().week instead.\n",
      "  trx['ScheduledDay_week'] = trx['tran_timestamp'].dt.week\n"
     ]
    }
   ],
   "source": [
    "trx['ScheduledDay_year'] = trx['tran_timestamp'].dt.year\n",
    "trx['ScheduledDay_month'] = trx['tran_timestamp'].dt.month\n",
    "trx['ScheduledDay_week'] = trx['tran_timestamp'].dt.week\n",
    "trx['ScheduledDay_day'] = trx['tran_timestamp'].dt.day\n",
    "trx['ScheduledDay_hour'] = trx['tran_timestamp'].dt.hour\n",
    "trx['ScheduledDay_minute'] = trx['tran_timestamp'].dt.minute\n",
    "trx['ScheduledDay_dayofweek'] = trx['tran_timestamp'].dt.dayofweek"
   ]
  },
  {
   "cell_type": "code",
   "execution_count": 16,
   "id": "115624c7-ec59-4341-b7e8-267c03b4eafc",
   "metadata": {},
   "outputs": [
    {
     "data": {
      "text/html": [
       "<div>\n",
       "<style scoped>\n",
       "    .dataframe tbody tr th:only-of-type {\n",
       "        vertical-align: middle;\n",
       "    }\n",
       "\n",
       "    .dataframe tbody tr th {\n",
       "        vertical-align: top;\n",
       "    }\n",
       "\n",
       "    .dataframe thead th {\n",
       "        text-align: right;\n",
       "    }\n",
       "</style>\n",
       "<table border=\"1\" class=\"dataframe\">\n",
       "  <thead>\n",
       "    <tr style=\"text-align: right;\">\n",
       "      <th></th>\n",
       "      <th>tran_id</th>\n",
       "      <th>orig_acct</th>\n",
       "      <th>bene_acct</th>\n",
       "      <th>tx_type</th>\n",
       "      <th>base_amt</th>\n",
       "      <th>tran_timestamp</th>\n",
       "      <th>is_sar</th>\n",
       "      <th>alert_id</th>\n",
       "      <th>ScheduledDay_year</th>\n",
       "      <th>ScheduledDay_month</th>\n",
       "      <th>ScheduledDay_week</th>\n",
       "      <th>ScheduledDay_day</th>\n",
       "      <th>ScheduledDay_hour</th>\n",
       "      <th>ScheduledDay_minute</th>\n",
       "      <th>ScheduledDay_dayofweek</th>\n",
       "    </tr>\n",
       "  </thead>\n",
       "  <tbody>\n",
       "    <tr>\n",
       "      <th>0</th>\n",
       "      <td>1</td>\n",
       "      <td>4376</td>\n",
       "      <td>170</td>\n",
       "      <td>TRANSFER</td>\n",
       "      <td>885.30</td>\n",
       "      <td>2017-01-01</td>\n",
       "      <td>False</td>\n",
       "      <td>-1</td>\n",
       "      <td>2017</td>\n",
       "      <td>1</td>\n",
       "      <td>52</td>\n",
       "      <td>1</td>\n",
       "      <td>0</td>\n",
       "      <td>0</td>\n",
       "      <td>6</td>\n",
       "    </tr>\n",
       "    <tr>\n",
       "      <th>1</th>\n",
       "      <td>2</td>\n",
       "      <td>4300</td>\n",
       "      <td>23</td>\n",
       "      <td>TRANSFER</td>\n",
       "      <td>630.41</td>\n",
       "      <td>2017-01-01</td>\n",
       "      <td>False</td>\n",
       "      <td>-1</td>\n",
       "      <td>2017</td>\n",
       "      <td>1</td>\n",
       "      <td>52</td>\n",
       "      <td>1</td>\n",
       "      <td>0</td>\n",
       "      <td>0</td>\n",
       "      <td>6</td>\n",
       "    </tr>\n",
       "    <tr>\n",
       "      <th>2</th>\n",
       "      <td>3</td>\n",
       "      <td>4433</td>\n",
       "      <td>12</td>\n",
       "      <td>TRANSFER</td>\n",
       "      <td>393.14</td>\n",
       "      <td>2017-01-01</td>\n",
       "      <td>False</td>\n",
       "      <td>-1</td>\n",
       "      <td>2017</td>\n",
       "      <td>1</td>\n",
       "      <td>52</td>\n",
       "      <td>1</td>\n",
       "      <td>0</td>\n",
       "      <td>0</td>\n",
       "      <td>6</td>\n",
       "    </tr>\n",
       "    <tr>\n",
       "      <th>3</th>\n",
       "      <td>4</td>\n",
       "      <td>2552</td>\n",
       "      <td>6503</td>\n",
       "      <td>TRANSFER</td>\n",
       "      <td>659.74</td>\n",
       "      <td>2017-01-01</td>\n",
       "      <td>False</td>\n",
       "      <td>-1</td>\n",
       "      <td>2017</td>\n",
       "      <td>1</td>\n",
       "      <td>52</td>\n",
       "      <td>1</td>\n",
       "      <td>0</td>\n",
       "      <td>0</td>\n",
       "      <td>6</td>\n",
       "    </tr>\n",
       "    <tr>\n",
       "      <th>4</th>\n",
       "      <td>5</td>\n",
       "      <td>2552</td>\n",
       "      <td>6503</td>\n",
       "      <td>TRANSFER</td>\n",
       "      <td>442.44</td>\n",
       "      <td>2017-01-01</td>\n",
       "      <td>False</td>\n",
       "      <td>-1</td>\n",
       "      <td>2017</td>\n",
       "      <td>1</td>\n",
       "      <td>52</td>\n",
       "      <td>1</td>\n",
       "      <td>0</td>\n",
       "      <td>0</td>\n",
       "      <td>6</td>\n",
       "    </tr>\n",
       "  </tbody>\n",
       "</table>\n",
       "</div>"
      ],
      "text/plain": [
       "   tran_id  orig_acct  bene_acct   tx_type  base_amt tran_timestamp  is_sar  \\\n",
       "0        1       4376        170  TRANSFER    885.30     2017-01-01   False   \n",
       "1        2       4300         23  TRANSFER    630.41     2017-01-01   False   \n",
       "2        3       4433         12  TRANSFER    393.14     2017-01-01   False   \n",
       "3        4       2552       6503  TRANSFER    659.74     2017-01-01   False   \n",
       "4        5       2552       6503  TRANSFER    442.44     2017-01-01   False   \n",
       "\n",
       "   alert_id  ScheduledDay_year  ScheduledDay_month  ScheduledDay_week  \\\n",
       "0        -1               2017                   1                 52   \n",
       "1        -1               2017                   1                 52   \n",
       "2        -1               2017                   1                 52   \n",
       "3        -1               2017                   1                 52   \n",
       "4        -1               2017                   1                 52   \n",
       "\n",
       "   ScheduledDay_day  ScheduledDay_hour  ScheduledDay_minute  \\\n",
       "0                 1                  0                    0   \n",
       "1                 1                  0                    0   \n",
       "2                 1                  0                    0   \n",
       "3                 1                  0                    0   \n",
       "4                 1                  0                    0   \n",
       "\n",
       "   ScheduledDay_dayofweek  \n",
       "0                       6  \n",
       "1                       6  \n",
       "2                       6  \n",
       "3                       6  \n",
       "4                       6  "
      ]
     },
     "execution_count": 16,
     "metadata": {},
     "output_type": "execute_result"
    }
   ],
   "source": [
    "trx.head()"
   ]
  },
  {
   "cell_type": "code",
   "execution_count": 17,
   "id": "aa3f5153-cd36-40a1-8e8c-9dcad415333c",
   "metadata": {},
   "outputs": [],
   "source": [
    "def calc_prevalence(y):\n",
    "    return (sum(y)/len(y))"
   ]
  },
  {
   "cell_type": "code",
   "execution_count": 18,
   "id": "3370e64c-05a6-4ded-a83d-0b9e2b2c7946",
   "metadata": {},
   "outputs": [
    {
     "data": {
      "text/plain": [
       "ScheduledDay_dayofweek\n",
       "0    0.003964\n",
       "1    0.003117\n",
       "2    0.003454\n",
       "3    0.003037\n",
       "4    0.003530\n",
       "5    0.002759\n",
       "6    0.003894\n",
       "dtype: float64"
      ]
     },
     "execution_count": 18,
     "metadata": {},
     "output_type": "execute_result"
    }
   ],
   "source": [
    "trx.groupby('ScheduledDay_dayofweek').apply(lambda x: calc_prevalence(x.is_sar.values))"
   ]
  },
  {
   "cell_type": "markdown",
   "id": "8ba7d15b-f999-49e9-8b7b-91f0186d7b8c",
   "metadata": {},
   "source": [
    "A strange observation is that the transactions are happening every alternate day of the week."
   ]
  },
  {
   "cell_type": "code",
   "execution_count": 19,
   "id": "96ee59a2-e021-4811-96aa-139ca315a40a",
   "metadata": {},
   "outputs": [],
   "source": [
    "#Let's check the distribution of amount for the transactions\n",
    "amount_val = trx['base_amt'].values\n"
   ]
  },
  {
   "cell_type": "code",
   "execution_count": 20,
   "id": "0ab13de1-64c3-4fef-bdeb-7bcaec63fe2f",
   "metadata": {},
   "outputs": [
    {
     "data": {
      "text/plain": [
       "Text(0.5, 1.0, 'Distribution of Transaction Amount')"
      ]
     },
     "execution_count": 20,
     "metadata": {},
     "output_type": "execute_result"
    },
    {
     "data": {
      "image/png": "[encoded data removed]",
      "text/plain": [
       "<Figure size 1296x288 with 1 Axes>"
      ]
     },
     "metadata": {},
     "output_type": "display_data"
    }
   ],
   "source": [
    "fig= plt.subplots(figsize=(18,4))\n",
    "sns.histplot(amount_val,  color='r').set_title('Distribution of Transaction Amount')"
   ]
  },
  {
   "cell_type": "code",
   "execution_count": 21,
   "id": "a8948663-842f-420a-add0-dd5e0eb46b23",
   "metadata": {},
   "outputs": [
    {
     "data": {
      "text/plain": [
       "<function matplotlib.pyplot.show(close=None, block=None)>"
      ]
     },
     "execution_count": 21,
     "metadata": {},
     "output_type": "execute_result"
    },
    {
     "data": {
      "image/png": "[encoded data removed]",
      "text/plain": [
       "<Figure size 432x288 with 1 Axes>"
      ]
     },
     "metadata": {},
     "output_type": "display_data"
    }
   ],
   "source": [
    "#check over which period\n",
    "trx.groupby([trx[\"tran_timestamp\"].dt.year, trx[\"tran_timestamp\"].dt.month])['tran_id'].count().plot(kind=\"bar\")\n",
    "plt.title('transaction by period')\n",
    "plt.show"
   ]
  },
  {
   "cell_type": "markdown",
   "id": "a45d5b41-378f-4d2d-a92e-dcc952ad1375",
   "metadata": {},
   "source": [
    "### Observation from transaction file\n",
    "\n",
    "1. We can also see that the transactions were higher in the Jan 2017 ann they have gradually descreased over the period of time.\n",
    "2. One important thing to notice is regarding the amount of transaction done when SAR==True, We can notice that the amount is very inconsistent with peaks near to 200, 400, 600, 800 and 1000 dollars and they also have a minimum transaction value(`$8.77`). However the false alerts are always maxed out and mostly above `1000$` with no minimum value."
   ]
  },
  {
   "cell_type": "markdown",
   "id": "9b905216-2f4d-495c-8311-356510347e7a",
   "metadata": {},
   "source": [
    "What would be a warning sign for fraud or money laundering activities?\n",
    "\n",
    "1. One such thing can be irregularly large transaction volume from an account is a red flag. Also, this exploitation could also be over a period of time, since the perpetrators don’t want to alert the bank with a single large transaction.\n",
    "\n",
    "Let’s see how these AML alerts are raised using the `alerts_transaction` file"
   ]
  },
  {
   "cell_type": "code",
   "execution_count": 22,
   "id": "39314fc1-6f03-4739-83b0-5c12791ce291",
   "metadata": {},
   "outputs": [],
   "source": [
    "alert_tx = pd.read_csv('alert_transactions.csv')"
   ]
  },
  {
   "cell_type": "code",
   "execution_count": 24,
   "id": "609a5f98-294c-49f3-b8b1-33ab4ee9490b",
   "metadata": {},
   "outputs": [
    {
     "data": {
      "text/html": [
       "<div>\n",
       "<style scoped>\n",
       "    .dataframe tbody tr th:only-of-type {\n",
       "        vertical-align: middle;\n",
       "    }\n",
       "\n",
       "    .dataframe tbody tr th {\n",
       "        vertical-align: top;\n",
       "    }\n",
       "\n",
       "    .dataframe thead th {\n",
       "        text-align: right;\n",
       "    }\n",
       "</style>\n",
       "<table border=\"1\" class=\"dataframe\">\n",
       "  <thead>\n",
       "    <tr style=\"text-align: right;\">\n",
       "      <th></th>\n",
       "      <th>alert_id</th>\n",
       "      <th>alert_type</th>\n",
       "      <th>is_sar</th>\n",
       "      <th>tran_id</th>\n",
       "      <th>orig_acct</th>\n",
       "      <th>bene_acct</th>\n",
       "      <th>tx_type</th>\n",
       "      <th>base_amt</th>\n",
       "      <th>tran_timestamp</th>\n",
       "    </tr>\n",
       "  </thead>\n",
       "  <tbody>\n",
       "    <tr>\n",
       "      <th>0</th>\n",
       "      <td>28</td>\n",
       "      <td>fan_in</td>\n",
       "      <td>True</td>\n",
       "      <td>39</td>\n",
       "      <td>6568</td>\n",
       "      <td>362</td>\n",
       "      <td>TRANSFER</td>\n",
       "      <td>370.25</td>\n",
       "      <td>2017-01-01T00:00:00Z</td>\n",
       "    </tr>\n",
       "    <tr>\n",
       "      <th>1</th>\n",
       "      <td>25</td>\n",
       "      <td>fan_in</td>\n",
       "      <td>True</td>\n",
       "      <td>77</td>\n",
       "      <td>6035</td>\n",
       "      <td>726</td>\n",
       "      <td>TRANSFER</td>\n",
       "      <td>969.03</td>\n",
       "      <td>2017-01-01T00:00:00Z</td>\n",
       "    </tr>\n",
       "    <tr>\n",
       "      <th>2</th>\n",
       "      <td>12</td>\n",
       "      <td>fan_in</td>\n",
       "      <td>True</td>\n",
       "      <td>80</td>\n",
       "      <td>1002</td>\n",
       "      <td>546</td>\n",
       "      <td>TRANSFER</td>\n",
       "      <td>359.95</td>\n",
       "      <td>2017-01-01T00:00:00Z</td>\n",
       "    </tr>\n",
       "    <tr>\n",
       "      <th>3</th>\n",
       "      <td>23</td>\n",
       "      <td>fan_in</td>\n",
       "      <td>True</td>\n",
       "      <td>85</td>\n",
       "      <td>7518</td>\n",
       "      <td>686</td>\n",
       "      <td>TRANSFER</td>\n",
       "      <td>842.13</td>\n",
       "      <td>2017-01-01T00:00:00Z</td>\n",
       "    </tr>\n",
       "    <tr>\n",
       "      <th>4</th>\n",
       "      <td>29</td>\n",
       "      <td>fan_in</td>\n",
       "      <td>True</td>\n",
       "      <td>103</td>\n",
       "      <td>6666</td>\n",
       "      <td>448</td>\n",
       "      <td>TRANSFER</td>\n",
       "      <td>943.53</td>\n",
       "      <td>2017-01-01T00:00:00Z</td>\n",
       "    </tr>\n",
       "  </tbody>\n",
       "</table>\n",
       "</div>"
      ],
      "text/plain": [
       "   alert_id alert_type  is_sar  tran_id  orig_acct  bene_acct   tx_type  \\\n",
       "0        28     fan_in    True       39       6568        362  TRANSFER   \n",
       "1        25     fan_in    True       77       6035        726  TRANSFER   \n",
       "2        12     fan_in    True       80       1002        546  TRANSFER   \n",
       "3        23     fan_in    True       85       7518        686  TRANSFER   \n",
       "4        29     fan_in    True      103       6666        448  TRANSFER   \n",
       "\n",
       "   base_amt        tran_timestamp  \n",
       "0    370.25  2017-01-01T00:00:00Z  \n",
       "1    969.03  2017-01-01T00:00:00Z  \n",
       "2    359.95  2017-01-01T00:00:00Z  \n",
       "3    842.13  2017-01-01T00:00:00Z  \n",
       "4    943.53  2017-01-01T00:00:00Z  "
      ]
     },
     "execution_count": 24,
     "metadata": {},
     "output_type": "execute_result"
    }
   ],
   "source": [
    "alert_tx.head()"
   ]
  },
  {
   "cell_type": "code",
   "execution_count": 25,
   "id": "a00c8dc5-82f4-4882-8c36-eefe673d382f",
   "metadata": {},
   "outputs": [
    {
     "name": "stdout",
     "output_type": "stream",
     "text": [
      "Total unique alerts: 100\n",
      "Out of Total Unique alerts 100, SAR unique alerts: 100\n"
     ]
    }
   ],
   "source": [
    "#Checking the unique alert\n",
    "total_unique_alerts = len(alert_tx['alert_id'].unique())\n",
    "print(f'Total unique alerts: {total_unique_alerts}')\n",
    "sar_unique_alerts = len(alert_tx.loc[alert_tx['is_sar']==True]['alert_id'].unique())\n",
    "print(f'Out of Total Unique alerts {total_unique_alerts}, SAR unique alerts: {sar_unique_alerts}')"
   ]
  },
  {
   "cell_type": "code",
   "execution_count": 26,
   "id": "1c85303e-f417-419f-bbb0-fbaffb01a962",
   "metadata": {},
   "outputs": [
    {
     "name": "stdout",
     "output_type": "stream",
     "text": [
      "Total unique alerts: 3\n",
      "Out of Total Unique alerts 3, SAR unique alerts: 3\n"
     ]
    }
   ],
   "source": [
    "#Checking the unique alert\n",
    "total_unique_alerts = len(alert_tx['alert_type'].unique())\n",
    "print(f'Total unique alerts: {total_unique_alerts}')\n",
    "sar_unique_alerts = len(alert_tx.loc[alert_tx['is_sar']==True]['alert_type'].unique())\n",
    "print(f'Out of Total Unique alerts {total_unique_alerts}, SAR unique alerts: {sar_unique_alerts}')"
   ]
  },
  {
   "cell_type": "code",
   "execution_count": 27,
   "id": "40855db5-67a5-49c1-b616-e21dfb5bca74",
   "metadata": {},
   "outputs": [
    {
     "data": {
      "text/plain": [
       "1"
      ]
     },
     "execution_count": 27,
     "metadata": {},
     "output_type": "execute_result"
    }
   ],
   "source": [
    "#Checking the unique transaction type\n",
    "total_unique_transaction = len(alert_tx['tx_type'].unique())\n",
    "total_unique_transaction"
   ]
  },
  {
   "cell_type": "code",
   "execution_count": 28,
   "id": "ff57cd3d-7fc7-45b0-a3eb-c74370ff4c55",
   "metadata": {},
   "outputs": [
    {
     "data": {
      "text/html": [
       "<div>\n",
       "<style scoped>\n",
       "    .dataframe tbody tr th:only-of-type {\n",
       "        vertical-align: middle;\n",
       "    }\n",
       "\n",
       "    .dataframe tbody tr th {\n",
       "        vertical-align: top;\n",
       "    }\n",
       "\n",
       "    .dataframe thead th {\n",
       "        text-align: right;\n",
       "    }\n",
       "</style>\n",
       "<table border=\"1\" class=\"dataframe\">\n",
       "  <thead>\n",
       "    <tr style=\"text-align: right;\">\n",
       "      <th></th>\n",
       "      <th>max</th>\n",
       "      <th>min</th>\n",
       "    </tr>\n",
       "    <tr>\n",
       "      <th>is_sar</th>\n",
       "      <th></th>\n",
       "      <th></th>\n",
       "    </tr>\n",
       "  </thead>\n",
       "  <tbody>\n",
       "    <tr>\n",
       "      <th>True</th>\n",
       "      <td>999.17</td>\n",
       "      <td>8.77</td>\n",
       "    </tr>\n",
       "  </tbody>\n",
       "</table>\n",
       "</div>"
      ],
      "text/plain": [
       "           max   min\n",
       "is_sar              \n",
       "True    999.17  8.77"
      ]
     },
     "execution_count": 28,
     "metadata": {},
     "output_type": "execute_result"
    }
   ],
   "source": [
    "#Checking the transaction amount per SAR\n",
    "amt_per_sar= alert_tx.groupby('is_sar')['base_amt'].agg([max, min])\n",
    "amt_per_sar"
   ]
  },
  {
   "cell_type": "code",
   "execution_count": 29,
   "id": "3ab4ef20-02c9-47fd-9b14-e91549b999b9",
   "metadata": {},
   "outputs": [
    {
     "data": {
      "text/plain": [
       "Text(0.5, 1.0, 'Distribution of Transaction Amount')"
      ]
     },
     "execution_count": 29,
     "metadata": {},
     "output_type": "execute_result"
    },
    {
     "data": {
      "image/png": "[encoded data removed]",
      "text/plain": [
       "<Figure size 1296x288 with 1 Axes>"
      ]
     },
     "metadata": {},
     "output_type": "display_data"
    }
   ],
   "source": [
    "#Let's check the distribution of amount for the transactions\n",
    "amount_val = alert_tx['base_amt'].values\n",
    "fig= plt.subplots(figsize=(18,4))\n",
    "sns.histplot(amount_val,  color='r').set_title('Distribution of Transaction Amount')"
   ]
  },
  {
   "cell_type": "code",
   "execution_count": 30,
   "id": "cbb0cf7e-2588-4eae-a0af-1131c841036e",
   "metadata": {},
   "outputs": [],
   "source": [
    "alert_tx['tran_timestamp'] = pd.to_datetime(alert_tx['tran_timestamp'], \n",
    " format = '%Y-%m-%dT%H:%M:%SZ', \n",
    " errors = 'coerce')"
   ]
  },
  {
   "cell_type": "code",
   "execution_count": 31,
   "id": "47116a7d-d012-4d95-b7b6-259e27d41b97",
   "metadata": {},
   "outputs": [
    {
     "data": {
      "text/plain": [
       "<function matplotlib.pyplot.show(close=None, block=None)>"
      ]
     },
     "execution_count": 31,
     "metadata": {},
     "output_type": "execute_result"
    },
    {
     "data": {
      "image/png": "[encoded data removed]",
      "text/plain": [
       "<Figure size 432x288 with 1 Axes>"
      ]
     },
     "metadata": {},
     "output_type": "display_data"
    }
   ],
   "source": [
    "#check over which period\n",
    "alert_tx.groupby([alert_tx[\"tran_timestamp\"].dt.year, alert_tx[\"tran_timestamp\"].dt.month])['tran_id'].count().plot(kind=\"bar\")\n",
    "plt.title('transaction by period')\n",
    "plt.show"
   ]
  },
  {
   "cell_type": "code",
   "execution_count": 32,
   "id": "7335ba1c-82d1-4eec-91ae-022284c5e4cf",
   "metadata": {},
   "outputs": [
    {
     "data": {
      "text/plain": [
       "is_sar\n",
       "True    AxesSubplot(0.125,0.125;0.775x0.755)\n",
       "Name: days, dtype: object"
      ]
     },
     "execution_count": 32,
     "metadata": {},
     "output_type": "execute_result"
    },
    {
     "data": {
      "image/png": "[encoded data removed]",
      "text/plain": [
       "<Figure size 432x288 with 1 Axes>"
      ]
     },
     "metadata": {},
     "output_type": "display_data"
    }
   ],
   "source": [
    "# check time frame in each AML cycle\n",
    "alert_tx['tran_timestamp'] = pd.to_datetime(alert_tx['tran_timestamp'], format='%Y-%m-%d')\n",
    "time_frame_AML = alert_tx.groupby(['alert_id', 'is_sar'])['tran_timestamp'].agg([max, min])\n",
    "time_frame_AML['delta'] = time_frame_AML['max'] - time_frame_AML['min']\n",
    "time_frame_AML['days'] = time_frame_AML['delta'].dt.days\n",
    "time_frame_AML.groupby('is_sar')['days'].plot.hist(legend=True, alpha=0.5)"
   ]
  },
  {
   "cell_type": "code",
   "execution_count": 33,
   "id": "0abfd8a6-aae2-40da-8b26-9975dab024c0",
   "metadata": {},
   "outputs": [
    {
     "data": {
      "text/plain": [
       "is_sar\n",
       "True    AxesSubplot(0.125,0.125;0.775x0.755)\n",
       "Name: delta_per, dtype: object"
      ]
     },
     "execution_count": 33,
     "metadata": {},
     "output_type": "execute_result"
    },
    {
     "data": {
      "image/png": "[encoded data removed]",
      "text/plain": [
       "<Figure size 432x288 with 1 Axes>"
      ]
     },
     "metadata": {},
     "output_type": "display_data"
    }
   ],
   "source": [
    "# check delta amount in each AML cycle\n",
    "amount_aml = alert_tx.groupby(['alert_id', 'is_sar'])['base_amt'].agg([min, max])\n",
    "amount_aml['delta'] = amount_aml['max'] - amount_aml['min']\n",
    "amount_aml['delta_per'] = amount_aml['delta'] / amount_aml['max']\n",
    "amount_aml.groupby('is_sar')['delta_per'].plot.hist(legend=True, alpha=0.5)\n",
    "# %%"
   ]
  },
  {
   "cell_type": "code",
   "execution_count": 34,
   "id": "56ba35d5-8893-43af-82d7-de81da5ca199",
   "metadata": {},
   "outputs": [
    {
     "data": {
      "image/png": "[encoded data removed]",
      "text/plain": [
       "<Figure size 432x288 with 1 Axes>"
      ]
     },
     "metadata": {},
     "output_type": "display_data"
    }
   ],
   "source": [
    "plt.style.use('ggplot')\n",
    "color_pal = [x['color'] for x in plt.rcParams['axes.prop_cycle']]\n",
    "\n",
    "alert_tx.loc[alert_tx['is_sar'] == True] \\\n",
    "    ['base_amt'].apply(np.log) \\\n",
    "    .plot(kind='hist',\n",
    "          bins=100,\n",
    "          title='Log Transaction Amt - Fraud',\n",
    "          color=color_pal[1],\n",
    "          xlim=(-3, 10)\n",
    "         )\n",
    "\n",
    "plt.show()"
   ]
  },
  {
   "cell_type": "markdown",
   "id": "dfb92fde-6294-4f92-9360-5fc55306aa3a",
   "metadata": {},
   "source": [
    "#### Observation of SAR based on alerts raised during each transaction\n",
    "1. We can notice that the Highest number of alerts were raised during Jan 2017. All these alerts are cyclic in nature which are mostly associated with `TRANSFER - transaction type`.\n",
    "2. We also notices that all these unique alerts are SAR alerts(TRUE).\n",
    "3. We can see that the distribution of amount when SAR(TRUE) is between `200, 400, 600, 800 and 1000 dollars` with minimum transaction value(`$8.77`). This shows that these are true positive alerts"
   ]
  },
  {
   "cell_type": "markdown",
   "id": "6e56d3ed-47ee-47cc-b05e-a34fe6f5a5eb",
   "metadata": {},
   "source": [
    "## Semi supervised machine learning\n",
    "In this kernel, I have explained how to perform classification task using semi supervised learning approach. This approach makes use of autoencoders to learn the representation of the data then a simple linear classifier is trained to classify the dataset into respective classes.\n",
    "\n",
    "One of the biggest challenge of this problem is that the target is highly imbalanced as only 0.34 % cases are AML transactions. But the advantage of the representation learning approach is that it is still able to handle such imbalance nature of the problems. We will look how.\n",
    "For our use-case let us take only about 1000 rows of non-AML transactions."
   ]
  },
  {
   "cell_type": "code",
   "execution_count": 35,
   "id": "47b471bc-8b11-437d-8262-fd81264586a7",
   "metadata": {},
   "outputs": [
    {
     "data": {
      "text/html": [
       "<div>\n",
       "<style scoped>\n",
       "    .dataframe tbody tr th:only-of-type {\n",
       "        vertical-align: middle;\n",
       "    }\n",
       "\n",
       "    .dataframe tbody tr th {\n",
       "        vertical-align: top;\n",
       "    }\n",
       "\n",
       "    .dataframe thead th {\n",
       "        text-align: right;\n",
       "    }\n",
       "</style>\n",
       "<table border=\"1\" class=\"dataframe\">\n",
       "  <thead>\n",
       "    <tr style=\"text-align: right;\">\n",
       "      <th></th>\n",
       "      <th>Target</th>\n",
       "      <th>Count</th>\n",
       "      <th>percent</th>\n",
       "    </tr>\n",
       "  </thead>\n",
       "  <tbody>\n",
       "    <tr>\n",
       "      <th>0</th>\n",
       "      <td>False</td>\n",
       "      <td>197234</td>\n",
       "      <td>99.66</td>\n",
       "    </tr>\n",
       "    <tr>\n",
       "      <th>1</th>\n",
       "      <td>True</td>\n",
       "      <td>671</td>\n",
       "      <td>0.34</td>\n",
       "    </tr>\n",
       "  </tbody>\n",
       "</table>\n",
       "</div>"
      ],
      "text/plain": [
       "   Target   Count  percent\n",
       "0   False  197234    99.66\n",
       "1    True     671     0.34"
      ]
     },
     "execution_count": 35,
     "metadata": {},
     "output_type": "execute_result"
    }
   ],
   "source": [
    "vc = trx['is_sar'].value_counts().to_frame().reset_index()\n",
    "vc['percent'] = vc[\"is_sar\"].apply(lambda x : round(100*float(x) / len(trx), 2))\n",
    "vc = vc.rename(columns = {\"index\" : \"Target\", \"is_sar\" : \"Count\"})\n",
    "vc"
   ]
  },
  {
   "cell_type": "code",
   "execution_count": 36,
   "id": "5da93a59-5028-4506-bb92-0cf990e52beb",
   "metadata": {},
   "outputs": [],
   "source": []
  },
  {
   "cell_type": "code",
   "execution_count": 37,
   "id": "d9dbbe97-60cf-40e0-bc90-054a50f0bb51",
   "metadata": {},
   "outputs": [],
   "source": [
    "# replacing values\n",
    "model_data = original_trx_data.copy()\n",
    "model_data['tx_type'].replace(['TRANSFER'],\n",
    "                        [0], inplace=True)\n",
    "model_data['tran_timestamp'] = pd.to_datetime(model_data['tran_timestamp'], \n",
    " format = '%Y-%m-%dT%H:%M:%SZ', \n",
    " errors = 'coerce')"
   ]
  },
  {
   "cell_type": "code",
   "execution_count": 38,
   "id": "513a1c73-470a-4c80-83ae-64bf797fe216",
   "metadata": {},
   "outputs": [],
   "source": [
    "##converting date variable to datetime \n",
    "model_data['createdon']=pd.to_datetime(model_data['tran_timestamp'])\n",
    "\n",
    "##year\n",
    "model_data['year']=model_data['tran_timestamp'].dt.year\n",
    "\n",
    "##month in numeric\n",
    "model_data['month']=model_data['tran_timestamp'].dt.month\n",
    "\n",
    "## Month Name\n",
    "model_data['Month Name']=model_data['tran_timestamp'].dt.month_name()\n",
    "\n",
    "## Name of the day\n",
    "model_data['Day Name']=model_data['tran_timestamp'].dt.day_name()\n",
    "\n",
    "## Hour if the day\n",
    "model_data['Hours']= model_data['tran_timestamp'].dt.hour\n",
    "\n",
    "## Feature to identify Weekday and Weekend\n",
    "model_data['Day of week']=['Weekend' if i in (['Saturday','Sunday']) else 'Weekday' for i in model_data['Day Name'] ]"
   ]
  },
  {
   "cell_type": "code",
   "execution_count": 39,
   "id": "71849559-9081-4c85-97a7-c6b9d300b3b9",
   "metadata": {},
   "outputs": [
    {
     "data": {
      "text/html": [
       "<div>\n",
       "<style scoped>\n",
       "    .dataframe tbody tr th:only-of-type {\n",
       "        vertical-align: middle;\n",
       "    }\n",
       "\n",
       "    .dataframe tbody tr th {\n",
       "        vertical-align: top;\n",
       "    }\n",
       "\n",
       "    .dataframe thead th {\n",
       "        text-align: right;\n",
       "    }\n",
       "</style>\n",
       "<table border=\"1\" class=\"dataframe\">\n",
       "  <thead>\n",
       "    <tr style=\"text-align: right;\">\n",
       "      <th></th>\n",
       "      <th>tran_id</th>\n",
       "      <th>orig_acct</th>\n",
       "      <th>bene_acct</th>\n",
       "      <th>tx_type</th>\n",
       "      <th>base_amt</th>\n",
       "      <th>tran_timestamp</th>\n",
       "      <th>is_sar</th>\n",
       "      <th>alert_id</th>\n",
       "      <th>createdon</th>\n",
       "      <th>year</th>\n",
       "      <th>month</th>\n",
       "      <th>Month Name</th>\n",
       "      <th>Day Name</th>\n",
       "      <th>Hours</th>\n",
       "      <th>Day of week</th>\n",
       "    </tr>\n",
       "  </thead>\n",
       "  <tbody>\n",
       "    <tr>\n",
       "      <th>0</th>\n",
       "      <td>1</td>\n",
       "      <td>4376</td>\n",
       "      <td>170</td>\n",
       "      <td>0</td>\n",
       "      <td>885.30</td>\n",
       "      <td>2017-01-01</td>\n",
       "      <td>False</td>\n",
       "      <td>-1</td>\n",
       "      <td>2017-01-01</td>\n",
       "      <td>2017</td>\n",
       "      <td>1</td>\n",
       "      <td>January</td>\n",
       "      <td>Sunday</td>\n",
       "      <td>0</td>\n",
       "      <td>Weekend</td>\n",
       "    </tr>\n",
       "    <tr>\n",
       "      <th>1</th>\n",
       "      <td>2</td>\n",
       "      <td>4300</td>\n",
       "      <td>23</td>\n",
       "      <td>0</td>\n",
       "      <td>630.41</td>\n",
       "      <td>2017-01-01</td>\n",
       "      <td>False</td>\n",
       "      <td>-1</td>\n",
       "      <td>2017-01-01</td>\n",
       "      <td>2017</td>\n",
       "      <td>1</td>\n",
       "      <td>January</td>\n",
       "      <td>Sunday</td>\n",
       "      <td>0</td>\n",
       "      <td>Weekend</td>\n",
       "    </tr>\n",
       "    <tr>\n",
       "      <th>2</th>\n",
       "      <td>3</td>\n",
       "      <td>4433</td>\n",
       "      <td>12</td>\n",
       "      <td>0</td>\n",
       "      <td>393.14</td>\n",
       "      <td>2017-01-01</td>\n",
       "      <td>False</td>\n",
       "      <td>-1</td>\n",
       "      <td>2017-01-01</td>\n",
       "      <td>2017</td>\n",
       "      <td>1</td>\n",
       "      <td>January</td>\n",
       "      <td>Sunday</td>\n",
       "      <td>0</td>\n",
       "      <td>Weekend</td>\n",
       "    </tr>\n",
       "    <tr>\n",
       "      <th>3</th>\n",
       "      <td>4</td>\n",
       "      <td>2552</td>\n",
       "      <td>6503</td>\n",
       "      <td>0</td>\n",
       "      <td>659.74</td>\n",
       "      <td>2017-01-01</td>\n",
       "      <td>False</td>\n",
       "      <td>-1</td>\n",
       "      <td>2017-01-01</td>\n",
       "      <td>2017</td>\n",
       "      <td>1</td>\n",
       "      <td>January</td>\n",
       "      <td>Sunday</td>\n",
       "      <td>0</td>\n",
       "      <td>Weekend</td>\n",
       "    </tr>\n",
       "    <tr>\n",
       "      <th>4</th>\n",
       "      <td>5</td>\n",
       "      <td>2552</td>\n",
       "      <td>6503</td>\n",
       "      <td>0</td>\n",
       "      <td>442.44</td>\n",
       "      <td>2017-01-01</td>\n",
       "      <td>False</td>\n",
       "      <td>-1</td>\n",
       "      <td>2017-01-01</td>\n",
       "      <td>2017</td>\n",
       "      <td>1</td>\n",
       "      <td>January</td>\n",
       "      <td>Sunday</td>\n",
       "      <td>0</td>\n",
       "      <td>Weekend</td>\n",
       "    </tr>\n",
       "  </tbody>\n",
       "</table>\n",
       "</div>"
      ],
      "text/plain": [
       "   tran_id  orig_acct  bene_acct  tx_type  base_amt tran_timestamp  is_sar  \\\n",
       "0        1       4376        170        0    885.30     2017-01-01   False   \n",
       "1        2       4300         23        0    630.41     2017-01-01   False   \n",
       "2        3       4433         12        0    393.14     2017-01-01   False   \n",
       "3        4       2552       6503        0    659.74     2017-01-01   False   \n",
       "4        5       2552       6503        0    442.44     2017-01-01   False   \n",
       "\n",
       "   alert_id  createdon  year  month Month Name Day Name  Hours Day of week  \n",
       "0        -1 2017-01-01  2017      1    January   Sunday      0     Weekend  \n",
       "1        -1 2017-01-01  2017      1    January   Sunday      0     Weekend  \n",
       "2        -1 2017-01-01  2017      1    January   Sunday      0     Weekend  \n",
       "3        -1 2017-01-01  2017      1    January   Sunday      0     Weekend  \n",
       "4        -1 2017-01-01  2017      1    January   Sunday      0     Weekend  "
      ]
     },
     "execution_count": 39,
     "metadata": {},
     "output_type": "execute_result"
    }
   ],
   "source": [
    "model_data.head()"
   ]
  },
  {
   "cell_type": "code",
   "execution_count": 40,
   "id": "318b9870-7060-42d7-ae71-65b041cea2d4",
   "metadata": {},
   "outputs": [
    {
     "data": {
      "image/png": "[encoded data removed]",
      "text/plain": [
       "<Figure size 1440x576 with 2 Axes>"
      ]
     },
     "metadata": {},
     "output_type": "display_data"
    }
   ],
   "source": [
    "corr1 = model_data.corr()\n",
    "\n",
    "plt.figure(figsize=(20,8))\n",
    "fig = sns.heatmap(corr1.round(2), cmap='coolwarm', linewidths=.5, annot=True)\n",
    "fig.set(title=\"Correlation Matrix\");"
   ]
  },
  {
   "cell_type": "markdown",
   "id": "d817e22c-e48a-4a4b-a898-451ad00a2808",
   "metadata": {},
   "source": [
    "As we can see high correlation between `year<->tran_id` , `day-name<->day-of-week` and `alert_id<->is_sar`. This is understandable since we can see from previous analysis that the sar alerts were high in `Jan 2021` which is were we had more transactions"
   ]
  },
  {
   "cell_type": "code",
   "execution_count": 41,
   "id": "1b7f875f-e55b-402d-8ee6-093fa729da93",
   "metadata": {},
   "outputs": [
    {
     "data": {
      "image/png": "[encoded data removed]",
      "text/plain": [
       "<Figure size 1080x576 with 1 Axes>"
      ]
     },
     "metadata": {},
     "output_type": "display_data"
    }
   ],
   "source": [
    "gb=model_data.groupby(['month','Month Name'])['is_sar'].mean().reset_index()\n",
    "plt.figure(figsize=(15,8))\n",
    "sns.barplot(x='Month Name',y='is_sar',data=gb);"
   ]
  },
  {
   "cell_type": "code",
   "execution_count": 42,
   "id": "8a373e5a-5dd3-4109-8c4c-72446c0488d6",
   "metadata": {},
   "outputs": [],
   "source": [
    "# Create a dictionary using which we\n",
    "# will remap the values\n",
    "month = {'January' : 1, 'February' : 2, 'March' : 3, 'April' : 4, 'May': 5, 'June': 6, 'July': 7, 'August': 8, 'September': 9, 'October':10, 'November':11, 'December':12}\n",
    "day = {'Monday' : 1, 'Tuesday' : 2, 'Wednesday' : 3, 'Thursday' : 4, 'Friday': 5, 'Saturday': 6, 'Sunday': 7}\n",
    "week = {'Weekday' : 0, 'Weekend' : 1}\n",
    "\n",
    "# Remap the values of the dataframe\n",
    "model_data.replace({\"Month Name\": month, \"Day Name\": day, \"Day of week\": week}, inplace=True)"
   ]
  },
  {
   "cell_type": "code",
   "execution_count": 43,
   "id": "d0185e40-363c-479f-b713-90453d7e7e0b",
   "metadata": {},
   "outputs": [
    {
     "data": {
      "text/html": [
       "<div>\n",
       "<style scoped>\n",
       "    .dataframe tbody tr th:only-of-type {\n",
       "        vertical-align: middle;\n",
       "    }\n",
       "\n",
       "    .dataframe tbody tr th {\n",
       "        vertical-align: top;\n",
       "    }\n",
       "\n",
       "    .dataframe thead th {\n",
       "        text-align: right;\n",
       "    }\n",
       "</style>\n",
       "<table border=\"1\" class=\"dataframe\">\n",
       "  <thead>\n",
       "    <tr style=\"text-align: right;\">\n",
       "      <th></th>\n",
       "      <th>tran_id</th>\n",
       "      <th>orig_acct</th>\n",
       "      <th>bene_acct</th>\n",
       "      <th>tx_type</th>\n",
       "      <th>base_amt</th>\n",
       "      <th>tran_timestamp</th>\n",
       "      <th>is_sar</th>\n",
       "      <th>alert_id</th>\n",
       "      <th>createdon</th>\n",
       "      <th>year</th>\n",
       "      <th>month</th>\n",
       "      <th>Month Name</th>\n",
       "      <th>Day Name</th>\n",
       "      <th>Hours</th>\n",
       "      <th>Day of week</th>\n",
       "    </tr>\n",
       "  </thead>\n",
       "  <tbody>\n",
       "    <tr>\n",
       "      <th>0</th>\n",
       "      <td>1</td>\n",
       "      <td>4376</td>\n",
       "      <td>170</td>\n",
       "      <td>0</td>\n",
       "      <td>885.30</td>\n",
       "      <td>2017-01-01</td>\n",
       "      <td>False</td>\n",
       "      <td>-1</td>\n",
       "      <td>2017-01-01</td>\n",
       "      <td>2017</td>\n",
       "      <td>1</td>\n",
       "      <td>1</td>\n",
       "      <td>7</td>\n",
       "      <td>0</td>\n",
       "      <td>1</td>\n",
       "    </tr>\n",
       "    <tr>\n",
       "      <th>1</th>\n",
       "      <td>2</td>\n",
       "      <td>4300</td>\n",
       "      <td>23</td>\n",
       "      <td>0</td>\n",
       "      <td>630.41</td>\n",
       "      <td>2017-01-01</td>\n",
       "      <td>False</td>\n",
       "      <td>-1</td>\n",
       "      <td>2017-01-01</td>\n",
       "      <td>2017</td>\n",
       "      <td>1</td>\n",
       "      <td>1</td>\n",
       "      <td>7</td>\n",
       "      <td>0</td>\n",
       "      <td>1</td>\n",
       "    </tr>\n",
       "    <tr>\n",
       "      <th>2</th>\n",
       "      <td>3</td>\n",
       "      <td>4433</td>\n",
       "      <td>12</td>\n",
       "      <td>0</td>\n",
       "      <td>393.14</td>\n",
       "      <td>2017-01-01</td>\n",
       "      <td>False</td>\n",
       "      <td>-1</td>\n",
       "      <td>2017-01-01</td>\n",
       "      <td>2017</td>\n",
       "      <td>1</td>\n",
       "      <td>1</td>\n",
       "      <td>7</td>\n",
       "      <td>0</td>\n",
       "      <td>1</td>\n",
       "    </tr>\n",
       "    <tr>\n",
       "      <th>3</th>\n",
       "      <td>4</td>\n",
       "      <td>2552</td>\n",
       "      <td>6503</td>\n",
       "      <td>0</td>\n",
       "      <td>659.74</td>\n",
       "      <td>2017-01-01</td>\n",
       "      <td>False</td>\n",
       "      <td>-1</td>\n",
       "      <td>2017-01-01</td>\n",
       "      <td>2017</td>\n",
       "      <td>1</td>\n",
       "      <td>1</td>\n",
       "      <td>7</td>\n",
       "      <td>0</td>\n",
       "      <td>1</td>\n",
       "    </tr>\n",
       "    <tr>\n",
       "      <th>4</th>\n",
       "      <td>5</td>\n",
       "      <td>2552</td>\n",
       "      <td>6503</td>\n",
       "      <td>0</td>\n",
       "      <td>442.44</td>\n",
       "      <td>2017-01-01</td>\n",
       "      <td>False</td>\n",
       "      <td>-1</td>\n",
       "      <td>2017-01-01</td>\n",
       "      <td>2017</td>\n",
       "      <td>1</td>\n",
       "      <td>1</td>\n",
       "      <td>7</td>\n",
       "      <td>0</td>\n",
       "      <td>1</td>\n",
       "    </tr>\n",
       "  </tbody>\n",
       "</table>\n",
       "</div>"
      ],
      "text/plain": [
       "   tran_id  orig_acct  bene_acct  tx_type  base_amt tran_timestamp  is_sar  \\\n",
       "0        1       4376        170        0    885.30     2017-01-01   False   \n",
       "1        2       4300         23        0    630.41     2017-01-01   False   \n",
       "2        3       4433         12        0    393.14     2017-01-01   False   \n",
       "3        4       2552       6503        0    659.74     2017-01-01   False   \n",
       "4        5       2552       6503        0    442.44     2017-01-01   False   \n",
       "\n",
       "   alert_id  createdon  year  month  Month Name  Day Name  Hours  Day of week  \n",
       "0        -1 2017-01-01  2017      1           1         7      0            1  \n",
       "1        -1 2017-01-01  2017      1           1         7      0            1  \n",
       "2        -1 2017-01-01  2017      1           1         7      0            1  \n",
       "3        -1 2017-01-01  2017      1           1         7      0            1  \n",
       "4        -1 2017-01-01  2017      1           1         7      0            1  "
      ]
     },
     "execution_count": 43,
     "metadata": {},
     "output_type": "execute_result"
    }
   ],
   "source": [
    "model_data.head()"
   ]
  },
  {
   "cell_type": "code",
   "execution_count": 44,
   "id": "8ea5b1e4-2991-4b48-b2ab-a17a76753812",
   "metadata": {},
   "outputs": [],
   "source": [
    "version_1 = model_data[['tran_id','orig_acct','bene_acct','tx_type','base_amt','is_sar','alert_id']]"
   ]
  },
  {
   "cell_type": "code",
   "execution_count": 45,
   "id": "72693b9b-4d78-490b-8005-f2ad59c5d315",
   "metadata": {},
   "outputs": [
    {
     "data": {
      "text/html": [
       "<div>\n",
       "<style scoped>\n",
       "    .dataframe tbody tr th:only-of-type {\n",
       "        vertical-align: middle;\n",
       "    }\n",
       "\n",
       "    .dataframe tbody tr th {\n",
       "        vertical-align: top;\n",
       "    }\n",
       "\n",
       "    .dataframe thead th {\n",
       "        text-align: right;\n",
       "    }\n",
       "</style>\n",
       "<table border=\"1\" class=\"dataframe\">\n",
       "  <thead>\n",
       "    <tr style=\"text-align: right;\">\n",
       "      <th></th>\n",
       "      <th>tran_id</th>\n",
       "      <th>orig_acct</th>\n",
       "      <th>bene_acct</th>\n",
       "      <th>tx_type</th>\n",
       "      <th>base_amt</th>\n",
       "      <th>is_sar</th>\n",
       "      <th>alert_id</th>\n",
       "    </tr>\n",
       "  </thead>\n",
       "  <tbody>\n",
       "    <tr>\n",
       "      <th>0</th>\n",
       "      <td>1</td>\n",
       "      <td>4376</td>\n",
       "      <td>170</td>\n",
       "      <td>0</td>\n",
       "      <td>885.30</td>\n",
       "      <td>False</td>\n",
       "      <td>-1</td>\n",
       "    </tr>\n",
       "    <tr>\n",
       "      <th>1</th>\n",
       "      <td>2</td>\n",
       "      <td>4300</td>\n",
       "      <td>23</td>\n",
       "      <td>0</td>\n",
       "      <td>630.41</td>\n",
       "      <td>False</td>\n",
       "      <td>-1</td>\n",
       "    </tr>\n",
       "    <tr>\n",
       "      <th>2</th>\n",
       "      <td>3</td>\n",
       "      <td>4433</td>\n",
       "      <td>12</td>\n",
       "      <td>0</td>\n",
       "      <td>393.14</td>\n",
       "      <td>False</td>\n",
       "      <td>-1</td>\n",
       "    </tr>\n",
       "    <tr>\n",
       "      <th>3</th>\n",
       "      <td>4</td>\n",
       "      <td>2552</td>\n",
       "      <td>6503</td>\n",
       "      <td>0</td>\n",
       "      <td>659.74</td>\n",
       "      <td>False</td>\n",
       "      <td>-1</td>\n",
       "    </tr>\n",
       "    <tr>\n",
       "      <th>4</th>\n",
       "      <td>5</td>\n",
       "      <td>2552</td>\n",
       "      <td>6503</td>\n",
       "      <td>0</td>\n",
       "      <td>442.44</td>\n",
       "      <td>False</td>\n",
       "      <td>-1</td>\n",
       "    </tr>\n",
       "  </tbody>\n",
       "</table>\n",
       "</div>"
      ],
      "text/plain": [
       "   tran_id  orig_acct  bene_acct  tx_type  base_amt  is_sar  alert_id\n",
       "0        1       4376        170        0    885.30   False        -1\n",
       "1        2       4300         23        0    630.41   False        -1\n",
       "2        3       4433         12        0    393.14   False        -1\n",
       "3        4       2552       6503        0    659.74   False        -1\n",
       "4        5       2552       6503        0    442.44   False        -1"
      ]
     },
     "execution_count": 45,
     "metadata": {},
     "output_type": "execute_result"
    }
   ],
   "source": [
    "#Using limited features  \n",
    "version_1.head()"
   ]
  },
  {
   "cell_type": "markdown",
   "id": "d590a16a-6a2b-4c70-90a9-d62bf75c5c3e",
   "metadata": {},
   "source": [
    "One of the biggest challenge of this problem is that the target is highly imbalanced which are NON SAR transactions. But the advantage of the representation learning approach is that it is still able to handle such imbalance nature of the problems. We will look how. For our use-case let's take only about 1000 rows of non-SAR transactions."
   ]
  },
  {
   "cell_type": "code",
   "execution_count": 46,
   "id": "956d7baf-6fed-405f-b9f4-f927587229b9",
   "metadata": {},
   "outputs": [
    {
     "name": "stderr",
     "output_type": "stream",
     "text": [
      "/tmp/ipykernel_1926/4274825679.py:4: FutureWarning: The frame.append method is deprecated and will be removed from pandas in a future version. Use pandas.concat instead.\n",
      "  df = non_AML.append(aml).sample(frac=1).reset_index(drop=True)\n"
     ]
    }
   ],
   "source": [
    "non_AML = version_1[version_1['is_sar'] == False].sample(1000)\n",
    "aml = version_1[version_1['is_sar'] == True]\n",
    "\n",
    "df = non_AML.append(aml).sample(frac=1).reset_index(drop=True)\n",
    "X = df.drop(['is_sar'], axis = 1).values\n",
    "Y = df[\"is_sar\"].values"
   ]
  },
  {
   "cell_type": "code",
   "execution_count": 47,
   "id": "db3b0df6-71af-44a7-8d2e-decee3828c1e",
   "metadata": {},
   "outputs": [
    {
     "data": {
      "text/html": [
       "<div>\n",
       "<style scoped>\n",
       "    .dataframe tbody tr th:only-of-type {\n",
       "        vertical-align: middle;\n",
       "    }\n",
       "\n",
       "    .dataframe tbody tr th {\n",
       "        vertical-align: top;\n",
       "    }\n",
       "\n",
       "    .dataframe thead th {\n",
       "        text-align: right;\n",
       "    }\n",
       "</style>\n",
       "<table border=\"1\" class=\"dataframe\">\n",
       "  <thead>\n",
       "    <tr style=\"text-align: right;\">\n",
       "      <th></th>\n",
       "      <th>tran_id</th>\n",
       "      <th>orig_acct</th>\n",
       "      <th>bene_acct</th>\n",
       "      <th>tx_type</th>\n",
       "      <th>base_amt</th>\n",
       "      <th>is_sar</th>\n",
       "      <th>alert_id</th>\n",
       "    </tr>\n",
       "  </thead>\n",
       "  <tbody>\n",
       "    <tr>\n",
       "      <th>0</th>\n",
       "      <td>104362</td>\n",
       "      <td>2547</td>\n",
       "      <td>22</td>\n",
       "      <td>0</td>\n",
       "      <td>729.92</td>\n",
       "      <td>False</td>\n",
       "      <td>-1</td>\n",
       "    </tr>\n",
       "    <tr>\n",
       "      <th>1</th>\n",
       "      <td>1002</td>\n",
       "      <td>6749</td>\n",
       "      <td>392</td>\n",
       "      <td>0</td>\n",
       "      <td>413.12</td>\n",
       "      <td>True</td>\n",
       "      <td>16</td>\n",
       "    </tr>\n",
       "    <tr>\n",
       "      <th>2</th>\n",
       "      <td>111729</td>\n",
       "      <td>13</td>\n",
       "      <td>4347</td>\n",
       "      <td>0</td>\n",
       "      <td>324.03</td>\n",
       "      <td>True</td>\n",
       "      <td>33</td>\n",
       "    </tr>\n",
       "    <tr>\n",
       "      <th>3</th>\n",
       "      <td>29072</td>\n",
       "      <td>85</td>\n",
       "      <td>25</td>\n",
       "      <td>0</td>\n",
       "      <td>991.87</td>\n",
       "      <td>False</td>\n",
       "      <td>-1</td>\n",
       "    </tr>\n",
       "    <tr>\n",
       "      <th>4</th>\n",
       "      <td>17618</td>\n",
       "      <td>11581</td>\n",
       "      <td>506</td>\n",
       "      <td>0</td>\n",
       "      <td>610.75</td>\n",
       "      <td>True</td>\n",
       "      <td>2</td>\n",
       "    </tr>\n",
       "  </tbody>\n",
       "</table>\n",
       "</div>"
      ],
      "text/plain": [
       "   tran_id  orig_acct  bene_acct  tx_type  base_amt  is_sar  alert_id\n",
       "0   104362       2547         22        0    729.92   False        -1\n",
       "1     1002       6749        392        0    413.12    True        16\n",
       "2   111729         13       4347        0    324.03    True        33\n",
       "3    29072         85         25        0    991.87   False        -1\n",
       "4    17618      11581        506        0    610.75    True         2"
      ]
     },
     "execution_count": 47,
     "metadata": {},
     "output_type": "execute_result"
    }
   ],
   "source": [
    "df.head()"
   ]
  },
  {
   "cell_type": "code",
   "execution_count": 48,
   "id": "048b82e0-12df-4076-808e-688075dff72a",
   "metadata": {},
   "outputs": [
    {
     "name": "stdout",
     "output_type": "stream",
     "text": [
      "(1671, 6)\n",
      "(1671,)\n"
     ]
    }
   ],
   "source": [
    "print(X.shape)\n",
    "print(Y.shape)"
   ]
  },
  {
   "cell_type": "markdown",
   "id": "4a8a38cd-19a3-4006-bd01-4ee10c799ef9",
   "metadata": {},
   "source": [
    "#### Visualize AML and NonAML Transactions\n",
    "Let's visualize the nature of fraud and non-fraud transactions using T-SNE. T-SNE (t-Distributed Stochastic Neighbor Embedding) is a dataset decomposition technique which reduced the dimentions of data and produces only top n components with maximum information.\n",
    "\n",
    "Every dot in the following represents a transaction. Non AML transactions are represented as Green while AML transactions are represented as Red. The two axis are the components extracted by tsne."
   ]
  },
  {
   "cell_type": "code",
   "execution_count": 50,
   "id": "3f7931e3-ccf3-4ce7-9be6-0d14604ad0e6",
   "metadata": {},
   "outputs": [
    {
     "name": "stderr",
     "output_type": "stream",
     "text": [
      "/home/studio-lab-user/.conda/envs/default/lib/python3.9/site-packages/sklearn/manifold/_t_sne.py:795: FutureWarning: The default initialization in TSNE will change from 'random' to 'pca' in 1.2.\n",
      "  warnings.warn(\n"
     ]
    },
    {
     "name": "stdout",
     "output_type": "stream",
     "text": [
      "[t-SNE] Computing 91 nearest neighbors...\n",
      "[t-SNE] Indexed 1671 samples in 0.002s...\n",
      "[t-SNE] Computed neighbors for 1671 samples in 0.033s...\n",
      "[t-SNE] Computed conditional probabilities for sample 1000 / 1671\n",
      "[t-SNE] Computed conditional probabilities for sample 1671 / 1671\n",
      "[t-SNE] Mean sigma: 2469.907006\n",
      "[t-SNE] KL divergence after 250 iterations with early exaggeration: 54.439735\n",
      "[t-SNE] KL divergence after 5000 iterations: 0.392114\n"
     ]
    }
   ],
   "source": [
    "tsne = TSNE(n_components=2, verbose=1, perplexity=30, n_iter=5000, learning_rate=200)\n",
    "tsne_scale_results = tsne.fit_transform(X)"
   ]
  },
  {
   "cell_type": "code",
   "execution_count": 51,
   "id": "daaf398f-e1bd-4750-ad37-2d911f6afe2e",
   "metadata": {},
   "outputs": [
    {
     "data": {
      "text/plain": [
       "(1671, 2)"
      ]
     },
     "execution_count": 51,
     "metadata": {},
     "output_type": "execute_result"
    }
   ],
   "source": [
    "tsne_scale_results.shape"
   ]
  },
  {
   "cell_type": "code",
   "execution_count": 52,
   "id": "db74b7c8-b304-4703-bdbe-ffd8d95e87c0",
   "metadata": {},
   "outputs": [],
   "source": [
    "tsne_df = pd.DataFrame(columns=['tsne1','tsne2', 'is_sar'], data = np.column_stack((tsne_scale_results, Y)))"
   ]
  },
  {
   "cell_type": "code",
   "execution_count": 53,
   "id": "3df4621e-9778-4e9c-a755-5c3e9ca98167",
   "metadata": {},
   "outputs": [
    {
     "data": {
      "text/html": [
       "<div>\n",
       "<style scoped>\n",
       "    .dataframe tbody tr th:only-of-type {\n",
       "        vertical-align: middle;\n",
       "    }\n",
       "\n",
       "    .dataframe tbody tr th {\n",
       "        vertical-align: top;\n",
       "    }\n",
       "\n",
       "    .dataframe thead th {\n",
       "        text-align: right;\n",
       "    }\n",
       "</style>\n",
       "<table border=\"1\" class=\"dataframe\">\n",
       "  <thead>\n",
       "    <tr style=\"text-align: right;\">\n",
       "      <th></th>\n",
       "      <th>tsne1</th>\n",
       "      <th>tsne2</th>\n",
       "      <th>is_sar</th>\n",
       "    </tr>\n",
       "  </thead>\n",
       "  <tbody>\n",
       "    <tr>\n",
       "      <th>0</th>\n",
       "      <td>-55.982250</td>\n",
       "      <td>2.812806</td>\n",
       "      <td>0</td>\n",
       "    </tr>\n",
       "    <tr>\n",
       "      <th>1</th>\n",
       "      <td>67.407463</td>\n",
       "      <td>-8.028997</td>\n",
       "      <td>1</td>\n",
       "    </tr>\n",
       "    <tr>\n",
       "      <th>2</th>\n",
       "      <td>-47.837578</td>\n",
       "      <td>10.661321</td>\n",
       "      <td>1</td>\n",
       "    </tr>\n",
       "    <tr>\n",
       "      <th>3</th>\n",
       "      <td>34.339550</td>\n",
       "      <td>-37.474995</td>\n",
       "      <td>0</td>\n",
       "    </tr>\n",
       "    <tr>\n",
       "      <th>4</th>\n",
       "      <td>41.702248</td>\n",
       "      <td>-22.666340</td>\n",
       "      <td>1</td>\n",
       "    </tr>\n",
       "  </tbody>\n",
       "</table>\n",
       "</div>"
      ],
      "text/plain": [
       "       tsne1      tsne2  is_sar\n",
       "0 -55.982250   2.812806       0\n",
       "1  67.407463  -8.028997       1\n",
       "2 -47.837578  10.661321       1\n",
       "3  34.339550 -37.474995       0\n",
       "4  41.702248 -22.666340       1"
      ]
     },
     "execution_count": 53,
     "metadata": {},
     "output_type": "execute_result"
    }
   ],
   "source": [
    "# cast targets column to int\n",
    "tsne_df.loc[:, 'is_sar'] = tsne_df.is_sar.astype(int)\n",
    "tsne_df.head()"
   ]
  },
  {
   "cell_type": "code",
   "execution_count": 54,
   "id": "d6d9cf69-ad2a-4928-bbb4-cbf638c4f308",
   "metadata": {},
   "outputs": [],
   "source": [
    "sar_map = {0:'False',\n",
    "            1: 'True'}\n",
    "# map targets to actual clothes for plotting\n",
    "tsne_df.loc[:, 'is_sar'] = tsne_df.is_sar.map(sar_map)"
   ]
  },
  {
   "cell_type": "code",
   "execution_count": 55,
   "id": "0deabfb8-0ce2-42d0-aacc-633d67d7cae2",
   "metadata": {
    "tags": []
   },
   "outputs": [
    {
     "data": {
      "text/plain": [
       "<AxesSubplot:>"
      ]
     },
     "execution_count": 55,
     "metadata": {},
     "output_type": "execute_result"
    },
    {
     "data": {
      "image/png": "[encoded data removed]",
      "text/plain": [
       "<Figure size 432x288 with 1 Axes>"
      ]
     },
     "metadata": {},
     "output_type": "display_data"
    }
   ],
   "source": [
    "tsne_df.is_sar.value_counts().plot(kind='bar')"
   ]
  },
  {
   "cell_type": "code",
   "execution_count": 56,
   "id": "949fcf9b-b984-47ba-8653-02c63905c9c9",
   "metadata": {},
   "outputs": [
    {
     "name": "stderr",
     "output_type": "stream",
     "text": [
      "/home/studio-lab-user/.conda/envs/default/lib/python3.9/site-packages/seaborn/axisgrid.py:337: UserWarning: The `size` parameter has been renamed to `height`; please update your code.\n",
      "  warnings.warn(msg, UserWarning)\n"
     ]
    },
    {
     "data": {
      "text/plain": [
       "<seaborn.axisgrid.FacetGrid at 0x7f5e9147da90>"
      ]
     },
     "execution_count": 56,
     "metadata": {},
     "output_type": "execute_result"
    },
    {
     "data": {
      "image/png": "[encoded data removed]",
      "text/plain": [
       "<Figure size 637.25x576 with 1 Axes>"
      ]
     },
     "metadata": {},
     "output_type": "display_data"
    }
   ],
   "source": [
    "grid = sns.FacetGrid(tsne_df, hue=\"is_sar\", size=8)\n",
    "grid.map(plt.scatter, 'tsne1', 'tsne2').add_legend()"
   ]
  },
  {
   "cell_type": "markdown",
   "id": "f14f95dc-4bad-4d93-b644-dfd7fff40ec7",
   "metadata": {},
   "source": [
    "From the above graph we can observe that there are many non_SARtransactions which are very close to SAR transactions, thus are difficult to accurately classify from a model."
   ]
  },
  {
   "cell_type": "markdown",
   "id": "81d2db42-946d-4e80-9825-94f6d2d798a0",
   "metadata": {
    "jupyter": {
     "outputs_hidden": true
    },
    "tags": []
   },
   "source": [
    "### AutoEncoders can help us over come this issue\n",
    "\n",
    "What are Autoencoders? - Autoencoders are a special type of neural network architectures in which the output is same as the input. Autoencoders are trained in an unsupervised manner in order to learn the exteremely low level repersentations of the input data. These low level features are then deformed back to project the actual data. An autoencoder is a regression task where the network is asked to predict its input (in other words, model the identity function). These networks has a tight bottleneck of a few neurons in the middle, forcing them to create effective representations that compress the input into a low-dimensional code that can be used by the decoder to reproduce the original input.\n",
    "\n"
   ]
  },
  {
   "cell_type": "markdown",
   "id": "e1c14398-13cb-410b-9f32-5832acedb0ae",
   "metadata": {},
   "source": [
    "We will create an autoencoder model in which we only show the model non-SAR cases. The model will try to learn the best representation of non-SAR cases. The same model will be used to generate the representations of SAR cases and we expect them to be different from non-SAR ones.\n",
    "\n",
    "Create a network with one input layer and one output layer having identical dimentions ie. the shape of non-SAR cases. We will use keras package."
   ]
  },
  {
   "cell_type": "code",
   "execution_count": 57,
   "id": "f964efc1-4bbe-489a-958d-d03d68527089",
   "metadata": {},
   "outputs": [
    {
     "name": "stderr",
     "output_type": "stream",
     "text": [
      "2022-05-17 15:46:58.204052: W tensorflow/stream_executor/platform/default/dso_loader.cc:64] Could not load dynamic library 'libcuda.so.1'; dlerror: libcuda.so.1: cannot open shared object file: No such file or directory\n",
      "2022-05-17 15:46:58.204088: W tensorflow/stream_executor/cuda/cuda_driver.cc:269] failed call to cuInit: UNKNOWN ERROR (303)\n",
      "2022-05-17 15:46:58.204115: I tensorflow/stream_executor/cuda/cuda_diagnostics.cc:156] kernel driver does not appear to be running on this host (default): /proc/driver/nvidia/version does not exist\n",
      "2022-05-17 15:46:58.204329: I tensorflow/core/platform/cpu_feature_guard.cc:193] This TensorFlow binary is optimized with oneAPI Deep Neural Network Library (oneDNN) to use the following CPU instructions in performance-critical operations:  AVX2 AVX512F FMA\n",
      "To enable them in other operations, rebuild TensorFlow with the appropriate compiler flags.\n"
     ]
    }
   ],
   "source": [
    "## input layer \n",
    "input_layer = Input(shape=(X.shape[1],))\n",
    "\n",
    "## encoding part\n",
    "encoded = Dense(100, activation='tanh', activity_regularizer=regularizers.l1(10e-5))(input_layer)\n",
    "encoded = Dense(50, activation='relu')(encoded)\n",
    "\n",
    "## decoding part\n",
    "decoded = Dense(50, activation='tanh')(encoded)\n",
    "decoded = Dense(100, activation='tanh')(decoded)\n",
    "\n",
    "## output layer\n",
    "output_layer = Dense(X.shape[1], activation='relu')(decoded)"
   ]
  },
  {
   "cell_type": "markdown",
   "id": "2fd9d5a4-f579-4c84-bda1-fffa00a25574",
   "metadata": {},
   "source": [
    "Create the model architecture by compiling input layer and output layers. Also add the optimizer and loss function, I am using \"adadelta\" as the optimizer and \"mse\" as the loss function."
   ]
  },
  {
   "cell_type": "code",
   "execution_count": 58,
   "id": "397f898e-b6de-447f-9ef5-cf9e3faed04a",
   "metadata": {},
   "outputs": [],
   "source": [
    "autoencoder = Model(input_layer, output_layer)\n",
    "autoencoder.compile(optimizer=\"adadelta\", loss=\"mse\")"
   ]
  },
  {
   "cell_type": "markdown",
   "id": "3a02a99d-c81f-4834-bf6e-071f6dece9b1",
   "metadata": {},
   "source": [
    "Before training, let's perform min max scaling."
   ]
  },
  {
   "cell_type": "code",
   "execution_count": 59,
   "id": "3f7471f2-f18d-4c2c-aed2-75f0145d1b84",
   "metadata": {},
   "outputs": [],
   "source": [
    "x = version_1.drop([\"is_sar\"], axis=1)\n",
    "y = version_1[\"is_sar\"].values\n",
    "\n",
    "x_scale = preprocessing.MinMaxScaler().fit_transform(x.values)\n",
    "x_norm, x_fraud = x_scale[y == 0], x_scale[y == 1]"
   ]
  },
  {
   "cell_type": "code",
   "execution_count": 60,
   "id": "3bf4e158-b05d-437b-863b-e306024f5979",
   "metadata": {},
   "outputs": [
    {
     "data": {
      "text/plain": [
       "(197234, 6)"
      ]
     },
     "execution_count": 60,
     "metadata": {},
     "output_type": "execute_result"
    }
   ],
   "source": [
    "x_norm.shape"
   ]
  },
  {
   "cell_type": "code",
   "execution_count": 61,
   "id": "5f66e1ea-b682-4fbc-971d-157d28f6308a",
   "metadata": {},
   "outputs": [
    {
     "data": {
      "text/plain": [
       "(671, 6)"
      ]
     },
     "execution_count": 61,
     "metadata": {},
     "output_type": "execute_result"
    }
   ],
   "source": [
    "x_fraud.shape"
   ]
  },
  {
   "cell_type": "markdown",
   "id": "504421e9-0911-4afd-82d4-444ddfe0eb5d",
   "metadata": {},
   "source": [
    "The beauty of this approach is that we do not need too many samples of data for learning the good representations. We will use only 2000 rows of non SAR cases to train the autoencoder. Additionally, We do not need to run this model for a large number of epochs.\n",
    "\n",
    "Explanation: The choice of small samples from the original dataset is based on the intuition that one class characteristics (non SAR) will differ from that of the other (SAR). To distinguish these characteristics we need to show the autoencoders only one class of data. This is because the autoencoder will try to learn only one class and automaticlly distinuish the other class."
   ]
  },
  {
   "cell_type": "code",
   "execution_count": 62,
   "id": "20f1deaf-d33e-415d-8bea-9f048f55ba50",
   "metadata": {
    "tags": []
   },
   "outputs": [
    {
     "name": "stdout",
     "output_type": "stream",
     "text": [
      "Epoch 1/20\n",
      "7/7 [==============================] - 1s 31ms/step - loss: 0.0688 - val_loss: 0.0679\n",
      "Epoch 2/20\n",
      "7/7 [==============================] - 0s 7ms/step - loss: 0.0686 - val_loss: 0.0677\n",
      "Epoch 3/20\n",
      "7/7 [==============================] - 0s 8ms/step - loss: 0.0684 - val_loss: 0.0675\n",
      "Epoch 4/20\n",
      "7/7 [==============================] - 0s 7ms/step - loss: 0.0682 - val_loss: 0.0674\n",
      "Epoch 5/20\n",
      "7/7 [==============================] - 0s 7ms/step - loss: 0.0680 - val_loss: 0.0672\n",
      "Epoch 6/20\n",
      "7/7 [==============================] - 0s 10ms/step - loss: 0.0678 - val_loss: 0.0670\n",
      "Epoch 7/20\n",
      "7/7 [==============================] - 0s 6ms/step - loss: 0.0676 - val_loss: 0.0668\n",
      "Epoch 8/20\n",
      "7/7 [==============================] - 0s 7ms/step - loss: 0.0674 - val_loss: 0.0666\n",
      "Epoch 9/20\n",
      "7/7 [==============================] - 0s 6ms/step - loss: 0.0672 - val_loss: 0.0664\n",
      "Epoch 10/20\n",
      "7/7 [==============================] - 0s 6ms/step - loss: 0.0670 - val_loss: 0.0662\n",
      "Epoch 11/20\n",
      "7/7 [==============================] - 0s 6ms/step - loss: 0.0668 - val_loss: 0.0660\n",
      "Epoch 12/20\n",
      "7/7 [==============================] - 0s 7ms/step - loss: 0.0666 - val_loss: 0.0658\n",
      "Epoch 13/20\n",
      "7/7 [==============================] - 0s 7ms/step - loss: 0.0664 - val_loss: 0.0656\n",
      "Epoch 14/20\n",
      "7/7 [==============================] - 0s 7ms/step - loss: 0.0662 - val_loss: 0.0654\n",
      "Epoch 15/20\n",
      "7/7 [==============================] - 0s 7ms/step - loss: 0.0660 - val_loss: 0.0652\n",
      "Epoch 16/20\n",
      "7/7 [==============================] - 0s 6ms/step - loss: 0.0658 - val_loss: 0.0650\n",
      "Epoch 17/20\n",
      "7/7 [==============================] - 0s 6ms/step - loss: 0.0656 - val_loss: 0.0648\n",
      "Epoch 18/20\n",
      "7/7 [==============================] - 0s 6ms/step - loss: 0.0654 - val_loss: 0.0646\n",
      "Epoch 19/20\n",
      "7/7 [==============================] - 0s 8ms/step - loss: 0.0652 - val_loss: 0.0644\n",
      "Epoch 20/20\n",
      "7/7 [==============================] - 0s 6ms/step - loss: 0.0650 - val_loss: 0.0642\n"
     ]
    }
   ],
   "source": [
    "autoencoder.fit(x_norm[0:2000], x_norm[0:2000], \n",
    "                batch_size = 256, epochs = 20, \n",
    "                shuffle = True, validation_split = 0.20);"
   ]
  },
  {
   "cell_type": "markdown",
   "id": "2981ff4f-c381-432c-b7ad-695725f954f1",
   "metadata": {},
   "source": [
    "Obtain the Latent Representations\n",
    "Now, the model is trained. We are intereseted in obtaining latent representation of the input learned by the model. This can be accessed by the weights of the trained model. We will create another network containing sequential layers, and we will only add the trained weights till the third layer where latent representation exists."
   ]
  },
  {
   "cell_type": "code",
   "execution_count": 63,
   "id": "d0800e77-a567-4359-9a4e-d6a92c17b8fd",
   "metadata": {},
   "outputs": [],
   "source": [
    "hidden_representation = Sequential()\n",
    "hidden_representation.add(autoencoder.layers[0])\n",
    "hidden_representation.add(autoencoder.layers[1])\n",
    "hidden_representation.add(autoencoder.layers[2])"
   ]
  },
  {
   "cell_type": "markdown",
   "id": "f7dcbe89-4684-4fcc-9f24-c601f2f0285d",
   "metadata": {},
   "source": [
    "Generate the hidden representations of two classes : non-SAR and SAR by predicting the raw inputs using the above model."
   ]
  },
  {
   "cell_type": "code",
   "execution_count": 64,
   "id": "8330b3b8-43ce-4254-8394-b2d38ddc3fcf",
   "metadata": {},
   "outputs": [
    {
     "name": "stdout",
     "output_type": "stream",
     "text": [
      "94/94 [==============================] - 0s 881us/step\n",
      "21/21 [==============================] - 0s 1ms/step\n"
     ]
    }
   ],
   "source": [
    "norm_hid_rep = hidden_representation.predict(x_norm[:3000])\n",
    "fraud_hid_rep = hidden_representation.predict(x_fraud)"
   ]
  },
  {
   "cell_type": "markdown",
   "id": "c891f025-bdcf-483d-818f-c8cb61fb1a8f",
   "metadata": {},
   "source": [
    "Now we will create a training dataset using the latent representations obtained and let's visualize the nature of SAR vs non-SAR cases."
   ]
  },
  {
   "cell_type": "code",
   "execution_count": 66,
   "id": "28a148b3-ade1-4b26-8a19-884e0d90abcc",
   "metadata": {
    "tags": []
   },
   "outputs": [],
   "source": [
    "rep_x = np.append(norm_hid_rep, fraud_hid_rep, axis = 0)\n",
    "y_n = np.zeros(norm_hid_rep.shape[0])\n",
    "y_f = np.ones(fraud_hid_rep.shape[0])\n",
    "rep_y = np.append(y_n, y_f)"
   ]
  },
  {
   "cell_type": "code",
   "execution_count": 67,
   "id": "fa9e57ed-8473-4107-af6b-efd5b0ada917",
   "metadata": {},
   "outputs": [
    {
     "name": "stderr",
     "output_type": "stream",
     "text": [
      "/home/studio-lab-user/.conda/envs/default/lib/python3.9/site-packages/sklearn/manifold/_t_sne.py:795: FutureWarning: The default initialization in TSNE will change from 'random' to 'pca' in 1.2.\n",
      "  warnings.warn(\n"
     ]
    },
    {
     "name": "stdout",
     "output_type": "stream",
     "text": [
      "[t-SNE] Computing 91 nearest neighbors...\n",
      "[t-SNE] Indexed 3671 samples in 0.001s...\n",
      "[t-SNE] Computed neighbors for 3671 samples in 0.514s...\n",
      "[t-SNE] Computed conditional probabilities for sample 1000 / 3671\n",
      "[t-SNE] Computed conditional probabilities for sample 2000 / 3671\n",
      "[t-SNE] Computed conditional probabilities for sample 3000 / 3671\n",
      "[t-SNE] Computed conditional probabilities for sample 3671 / 3671\n",
      "[t-SNE] Mean sigma: 0.013204\n",
      "[t-SNE] KL divergence after 250 iterations with early exaggeration: 59.957668\n",
      "[t-SNE] KL divergence after 5000 iterations: 0.521105\n"
     ]
    }
   ],
   "source": [
    "tsne = TSNE(n_components=2, verbose=1, perplexity=30, n_iter=5000, learning_rate=200)\n",
    "tsne_scale_results = tsne.fit_transform(rep_x)"
   ]
  },
  {
   "cell_type": "code",
   "execution_count": 69,
   "id": "a5443c00-0a9e-4437-ab26-d18fb71edfdc",
   "metadata": {},
   "outputs": [],
   "source": [
    "tsne_df_1 = pd.DataFrame(columns=['tsne1','tsne2', 'is_sar'], data = np.column_stack((tsne_scale_results, rep_y)))"
   ]
  },
  {
   "cell_type": "code",
   "execution_count": 70,
   "id": "e07536ff-7ce4-4070-b266-a7f733d153b2",
   "metadata": {},
   "outputs": [],
   "source": [
    "sar_map = {0:'False',\n",
    "            1: 'True'}\n",
    "# map targets to actual clothes for plotting\n",
    "tsne_df_1.loc[:, 'is_sar'] = tsne_df_1.is_sar.map(sar_map)"
   ]
  },
  {
   "cell_type": "code",
   "execution_count": 71,
   "id": "f1515690-95da-4504-a98f-7494c38fc46f",
   "metadata": {},
   "outputs": [
    {
     "name": "stderr",
     "output_type": "stream",
     "text": [
      "/home/studio-lab-user/.conda/envs/default/lib/python3.9/site-packages/seaborn/axisgrid.py:337: UserWarning: The `size` parameter has been renamed to `height`; please update your code.\n",
      "  warnings.warn(msg, UserWarning)\n"
     ]
    },
    {
     "data": {
      "text/plain": [
       "<seaborn.axisgrid.FacetGrid at 0x7f5e8fa4cc10>"
      ]
     },
     "execution_count": 71,
     "metadata": {},
     "output_type": "execute_result"
    },
    {
     "data": {
      "image/png": "[encoded data removed]",
      "text/plain": [
       "<Figure size 637.25x576 with 1 Axes>"
      ]
     },
     "metadata": {},
     "output_type": "display_data"
    }
   ],
   "source": [
    "grid = sns.FacetGrid(tsne_df_1, hue=\"is_sar\", size=8)\n",
    "grid.map(plt.scatter, 'tsne1', 'tsne2').add_legend()"
   ]
  },
  {
   "cell_type": "markdown",
   "id": "14d1feeb-86cb-430f-8571-e324a27553c3",
   "metadata": {},
   "source": [
    "What a perfect graph, we can observe that now SAR and non-SAR transactions are pretty visibile and are linearly separable. Now we dont need any complex model to classify this, even the simpler models can be used to predict. Here is the before and after view of SAR and Non SAR transactions."
   ]
  },
  {
   "cell_type": "code",
   "execution_count": 74,
   "id": "8c1e8f09-e190-44d1-b9e7-f1eac9492ecb",
   "metadata": {},
   "outputs": [
    {
     "name": "stdout",
     "output_type": "stream",
     "text": [
      "\n",
      "Classification Report: \n",
      "              precision    recall  f1-score   support\n",
      "\n",
      "         0.0       0.98      1.00      0.99       749\n",
      "         1.0       1.00      0.89      0.94       169\n",
      "\n",
      "    accuracy                           0.98       918\n",
      "   macro avg       0.99      0.95      0.97       918\n",
      "weighted avg       0.98      0.98      0.98       918\n",
      "\n",
      "\n",
      "Accuracy Score:  0.9803921568627451\n",
      "\n",
      "Confusion matrix:  [[749   0]\n",
      " [ 18 151]]\n"
     ]
    }
   ],
   "source": [
    "train_x, val_x, train_y, val_y = train_test_split(rep_x, rep_y, test_size=0.25)\n",
    "clf = LogisticRegression(solver=\"lbfgs\").fit(train_x, train_y)\n",
    "pred_y = clf.predict(val_x)\n",
    "\n",
    "print (\"\")\n",
    "print (\"Classification Report: \")\n",
    "print (classification_report(val_y, pred_y))\n",
    "\n",
    "print (\"\")\n",
    "print (\"Accuracy Score: \", accuracy_score(val_y, pred_y))\n",
    "\n",
    "print (\"\")\n",
    "print(\"Confusion matrix: \", confusion_matrix(val_y,pred_y))"
   ]
  },
  {
   "cell_type": "code",
   "execution_count": 76,
   "id": "00495168-4df4-4a6a-a0bf-20344b856364",
   "metadata": {},
   "outputs": [],
   "source": [
    "from sklearn.metrics import precision_recall_curve\n",
    "\n",
    "precision, recall, threshold = precision_recall_curve(val_y,pred_y)"
   ]
  },
  {
   "cell_type": "code",
   "execution_count": 77,
   "id": "e693859c-fe2b-454b-af8c-6c4ade0defd0",
   "metadata": {},
   "outputs": [
    {
     "data": {
      "image/png": "[encoded data removed]",
      "text/plain": [
       "<Figure size 432x288 with 1 Axes>"
      ]
     },
     "metadata": {},
     "output_type": "display_data"
    }
   ],
   "source": [
    "#create precision recall curve\n",
    "fig, ax = plt.subplots()\n",
    "ax.plot(recall, precision, color='purple')\n",
    "\n",
    "#add axis labels to plot\n",
    "ax.set_title('Precision-Recall Curve')\n",
    "ax.set_ylabel('Precision')\n",
    "ax.set_xlabel('Recall')\n",
    "\n",
    "#display plot\n",
    "plt.show()"
   ]
  },
  {
   "cell_type": "code",
   "execution_count": 79,
   "id": "9fe93026-d1be-4ee0-8096-2e46aee267d4",
   "metadata": {},
   "outputs": [
    {
     "data": {
      "image/png": "[encoded data removed]",
      "text/plain": [
       "<Figure size 432x288 with 1 Axes>"
      ]
     },
     "metadata": {},
     "output_type": "display_data"
    }
   ],
   "source": [
    "from sklearn import metrics\n",
    "fpr, tpr, _ = metrics.roc_curve(val_y,pred_y)\n",
    "auc = metrics.roc_auc_score(val_y,pred_y)\n",
    "\n",
    "#create ROC curve\n",
    "plt.plot(fpr,tpr,label=\"AUC=\"+str(auc))\n",
    "plt.ylabel('True Positive Rate')\n",
    "plt.xlabel('False Positive Rate')\n",
    "plt.legend(loc=4)\n",
    "plt.show()"
   ]
  },
  {
   "cell_type": "markdown",
   "id": "ec681d82-06f2-4f18-88b0-58139de8893c",
   "metadata": {},
   "source": [
    "### Final conclusion\n",
    "1. The AUC for this logistic regression model turns out to be 0.94. Since this is close to 1 our model is able to properly classify NON SAR and SAR transaction\n",
    "2. We also used Precision-Recall score to judge the model's performance and it turned out to be excellent. \n",
    "\n",
    "Based on our initial assumption and feature engineering we can concludde that Auto encoder can be one of the suitable approach to solve this challenge"
   ]
  },
  {
   "cell_type": "code",
   "execution_count": null,
   "id": "ba3bee38-41a7-4427-b95d-e6bbcab5bbb2",
   "metadata": {},
   "outputs": [],
   "source": []
  }
 ],
 "metadata": {
  "kernelspec": {
   "display_name": "default:Python",
   "language": "python",
   "name": "conda-env-default-py"
  },
  "language_info": {
   "codemirror_mode": {
    "name": "ipython",
    "version": 3
   },
   "file_extension": ".py",
   "mimetype": "text/x-python",
   "name": "python",
   "nbconvert_exporter": "python",
   "pygments_lexer": "ipython3",
   "version": "3.9.7"
  }
 },
 "nbformat": 4,
 "nbformat_minor": 5
}
